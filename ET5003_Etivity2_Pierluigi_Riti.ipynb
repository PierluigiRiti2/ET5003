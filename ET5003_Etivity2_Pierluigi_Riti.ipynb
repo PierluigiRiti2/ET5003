{
  "nbformat": 4,
  "nbformat_minor": 0,
  "metadata": {
    "colab": {
      "name": "ET5003_Etivity2_template.ipynb",
      "provenance": [],
      "collapsed_sections": []
    },
    "kernelspec": {
      "name": "python3",
      "display_name": "Python 3"
    },
    "language_info": {
      "name": "python"
    }
  },
  "cells": [
    {
      "cell_type": "markdown",
      "metadata": {
        "id": "930vlW5BrOtq"
      },
      "source": [
        "<div>\n",
        "<img src=\"https://drive.google.com/uc?export=view&id=1vK33e_EqaHgBHcbRV_m38hx6IkG0blK_\" width=\"350\"/>\n",
        "</div> \n",
        "\n",
        "#**Artificial Intelligence - MSc**\n",
        "##ET5003 - MACHINE LEARNING APPLICATIONS \n",
        "\n",
        "###Instructor: Enrique Naredo\n",
        "###ET5003_Etivity-2"
      ]
    },
    {
      "cell_type": "code",
      "metadata": {
        "id": "LqXD_IwUQuBF",
        "cellView": "form"
      },
      "source": [
        "#@title Current Date\n",
        "Today = '2021-09-22' #@param {type:\"date\"}\n"
      ],
      "execution_count": 1,
      "outputs": []
    },
    {
      "cell_type": "code",
      "metadata": {
        "id": "uzDKau31OjVO",
        "cellView": "form"
      },
      "source": [
        "#@markdown ---\n",
        "#@markdown ### Enter your details here:\n",
        "Student_ID = \"18213561 \" #@param {type:\"string\"}\n",
        "Student_full_name = \"Pierluigi Riti\" #@param {type:\"string\"}\n",
        "#@markdown ---"
      ],
      "execution_count": 2,
      "outputs": []
    },
    {
      "cell_type": "code",
      "metadata": {
        "id": "r39xGZckTpKx",
        "cellView": "form"
      },
      "source": [
        "#@title Notebook information\n",
        "Notebook_type = 'Etivity' #@param [\"Example\", \"Lab\", \"Practice\", \"Etivity\", \"Assignment\", \"Exam\"]\n",
        "Version = 'Draft' #@param [\"Draft\", \"Final\"] {type:\"raw\"}\n",
        "Submission = False #@param {type:\"boolean\"}"
      ],
      "execution_count": 3,
      "outputs": []
    },
    {
      "cell_type": "markdown",
      "metadata": {
        "id": "_A0Z6S-r6DpA"
      },
      "source": [
        "# INTRODUCTION"
      ]
    },
    {
      "cell_type": "markdown",
      "metadata": {
        "id": "QkRchZtf6IV-"
      },
      "source": [
        "**Piecewise regression**, extract from [Wikipedia](https://en.wikipedia.org/wiki/Segmented_regression):\n",
        "\n",
        "Segmented regression, also known as piecewise regression or broken-stick regression, is a method in regression analysis in which the independent variable is partitioned into intervals and a separate line segment is fit to each interval. \n",
        "\n",
        "* Segmented regression analysis can also be performed on \n",
        "multivariate data by partitioning the various independent variables. \n",
        "* Segmented regression is useful when the independent variables, clustered into different groups, exhibit different relationships between the variables in these regions. \n",
        "\n",
        "* The boundaries between the segments are breakpoints.\n",
        "\n",
        "* Segmented linear regression is segmented regression whereby the relations in the intervals are obtained by linear regression. "
      ]
    },
    {
      "cell_type": "markdown",
      "metadata": {
        "id": "aajlS0WCJ8pm"
      },
      "source": [
        "***The goal is to use advanced Machine Learning methods to predict House price.***"
      ]
    },
    {
      "cell_type": "markdown",
      "metadata": {
        "id": "Wg7VCbX77eAA"
      },
      "source": [
        "## Imports"
      ]
    },
    {
      "cell_type": "code",
      "metadata": {
        "id": "iFFLThrpwibd"
      },
      "source": [
        "# Suppressing Warnings:\n",
        "import warnings\n",
        "warnings.filterwarnings(\"ignore\")"
      ],
      "execution_count": 4,
      "outputs": []
    },
    {
      "cell_type": "code",
      "metadata": {
        "id": "d1770_fNrCWn"
      },
      "source": [
        "import pandas as pd\n",
        "import matplotlib.pyplot as plt\n",
        "import numpy as np\n",
        "import pymc3 as pm\n",
        "import arviz as az\n",
        "import seaborn as sns # use Seaborn for the hotmap correlation\n",
        "from sklearn.preprocessing import StandardScaler"
      ],
      "execution_count": 5,
      "outputs": []
    },
    {
      "cell_type": "code",
      "metadata": {
        "id": "sYPJU_Y6O6Dq"
      },
      "source": [
        "# to plot\n",
        "import matplotlib.colors\n",
        "from mpl_toolkits.mplot3d import Axes3D\n",
        "\n",
        "# to generate classification, regression and clustering datasets\n",
        "import sklearn.datasets as dt\n",
        "\n",
        "# to create data frames\n",
        "from pandas import DataFrame\n",
        "\n",
        "# to generate data from an existing dataset\n",
        "from sklearn.neighbors import KernelDensity\n",
        "from sklearn.model_selection import GridSearchCV"
      ],
      "execution_count": 6,
      "outputs": []
    },
    {
      "cell_type": "code",
      "metadata": {
        "id": "6MUJdlxSPSMM"
      },
      "source": [
        "# Define the seed so that results can be reproduced\n",
        "seed = 11\n",
        "rand_state = 11\n",
        "\n",
        "# Define the color maps for plots\n",
        "color_map = plt.cm.get_cmap('RdYlBu')\n",
        "color_map_discrete = matplotlib.colors.LinearSegmentedColormap.from_list(\"\", [\"red\",\"cyan\",\"magenta\",\"blue\"])"
      ],
      "execution_count": 7,
      "outputs": []
    },
    {
      "cell_type": "markdown",
      "metadata": {
        "id": "WL91ShB19RPw"
      },
      "source": [
        "# DATASET"
      ]
    },
    {
      "cell_type": "markdown",
      "metadata": {
        "id": "ESg5DGKWJSOf"
      },
      "source": [
        "Extract from this [paper](https://ieeexplore.ieee.org/document/9300074):\n",
        "\n",
        "* House prices are a significant impression of the economy, and its value ranges are of great concerns for the clients and property dealers. \n",
        "\n",
        "* Housing price escalate every year that eventually reinforced the need of strategy or technique that could predict house prices in future. \n",
        "\n",
        "* There are certain factors that influence house prices including physical conditions, locations, number of bedrooms and others.\n"
      ]
    },
    {
      "cell_type": "markdown",
      "metadata": {
        "id": "a8Y2pf50FlYL"
      },
      "source": [
        "1. [Download the dataset](https://github.com/UL-ET5003/ET5003_SEM1_2021-2/tree/main/Week-3). \n",
        "\n",
        "2. Upload the dataset into your folder.\n",
        "\n"
      ]
    },
    {
      "cell_type": "markdown",
      "metadata": {
        "id": "FMkdCQEmKTof"
      },
      "source": [
        "The challenge is to predict the final price of each house."
      ]
    },
    {
      "cell_type": "markdown",
      "metadata": {
        "id": "2PMoPLlUJ1Ly"
      },
      "source": [
        "## Training & Test Data"
      ]
    },
    {
      "cell_type": "code",
      "metadata": {
        "colab": {
          "base_uri": "https://localhost:8080/"
        },
        "id": "P4o_rb5Nz4h3",
        "outputId": "10ad8393-f6fb-420e-ba79-a87722b3de14"
      },
      "source": [
        "# Mount Google drive\n",
        "from google.colab import drive\n",
        "drive.mount('/content/drive')"
      ],
      "execution_count": 8,
      "outputs": [
        {
          "output_type": "stream",
          "name": "stdout",
          "text": [
            "Drive already mounted at /content/drive; to attempt to forcibly remount, call drive.mount(\"/content/drive\", force_remount=True).\n"
          ]
        }
      ]
    },
    {
      "cell_type": "code",
      "metadata": {
        "id": "5Wk-aFIjz6o-"
      },
      "source": [
        "# path to Google Drive\n",
        "pathDrive = '/content/drive/MyDrive/Colab Notebooks/Etivity3/'"
      ],
      "execution_count": 9,
      "outputs": []
    },
    {
      "cell_type": "code",
      "metadata": {
        "id": "vIkr-Tga0OQO"
      },
      "source": [
        "folderName = 'House_Dataset/'\n",
        "\n",
        "syntPath = pathDrive+folderName\n",
        "# training dataset: \n",
        "training_file = syntPath+\"house_train.csv\"\n",
        "# test dataset: \n",
        "testing_file = syntPath+\"house_test.csv\"\n",
        "# cost dataset: \n",
        "cost_file = syntPath+\"true_price.csv\""
      ],
      "execution_count": 10,
      "outputs": []
    },
    {
      "cell_type": "markdown",
      "metadata": {
        "id": "HeQgdZ6SfIH0"
      },
      "source": [
        "# Exploratory Data Analysis(EDA)\n",
        "Exploratory Data Analysis, EDA, involves looking and describing the data set from different point of views."
      ]
    },
    {
      "cell_type": "markdown",
      "metadata": {
        "id": "ztBkSZluye87"
      },
      "source": [
        "### Train dataset"
      ]
    },
    {
      "cell_type": "code",
      "metadata": {
        "id": "3gcI2aUKe_q-"
      },
      "source": [
        "# Exploratory Data Analysis(EDA)\n",
        "# Load the data in the Pandas dataframe\n",
        "dftrain = pd.read_csv(training_file)\n",
        "# remove the first column of the dataset\n",
        "# dftrain = dftrain.drop(columns=\"ad_id\", axis=1)\n",
        "\n",
        "dftest = pd.read_csv(testing_file)\n",
        "# remove the first column of the dataset\n",
        "# dftest = dftest.drop(columns=\"ad_id\", axis=1)\n",
        "\n",
        "dfcost = pd.read_csv(cost_file)"
      ],
      "execution_count": 11,
      "outputs": []
    },
    {
      "cell_type": "code",
      "metadata": {
        "id": "6XUFUPABMHfF",
        "colab": {
          "base_uri": "https://localhost:8080/",
          "height": 417
        },
        "outputId": "9e138177-4bf0-4b0c-dfed-1d90632b6b7d"
      },
      "source": [
        "# show first data frame rows \n",
        "dftrain.head()"
      ],
      "execution_count": 12,
      "outputs": [
        {
          "output_type": "execute_result",
          "data": {
            "text/html": [
              "<div>\n",
              "<style scoped>\n",
              "    .dataframe tbody tr th:only-of-type {\n",
              "        vertical-align: middle;\n",
              "    }\n",
              "\n",
              "    .dataframe tbody tr th {\n",
              "        vertical-align: top;\n",
              "    }\n",
              "\n",
              "    .dataframe thead th {\n",
              "        text-align: right;\n",
              "    }\n",
              "</style>\n",
              "<table border=\"1\" class=\"dataframe\">\n",
              "  <thead>\n",
              "    <tr style=\"text-align: right;\">\n",
              "      <th></th>\n",
              "      <th>ad_id</th>\n",
              "      <th>area</th>\n",
              "      <th>bathrooms</th>\n",
              "      <th>beds</th>\n",
              "      <th>ber_classification</th>\n",
              "      <th>county</th>\n",
              "      <th>description_block</th>\n",
              "      <th>environment</th>\n",
              "      <th>facility</th>\n",
              "      <th>features</th>\n",
              "      <th>latitude</th>\n",
              "      <th>longitude</th>\n",
              "      <th>no_of_units</th>\n",
              "      <th>price</th>\n",
              "      <th>property_category</th>\n",
              "      <th>property_type</th>\n",
              "      <th>surface</th>\n",
              "    </tr>\n",
              "  </thead>\n",
              "  <tbody>\n",
              "    <tr>\n",
              "      <th>0</th>\n",
              "      <td>996887</td>\n",
              "      <td>Portmarnock</td>\n",
              "      <td>NaN</td>\n",
              "      <td>NaN</td>\n",
              "      <td>NaN</td>\n",
              "      <td>Dublin</td>\n",
              "      <td>A SELECTION OF 4 AND 5 BEDROOM FAMILY HOMES LO...</td>\n",
              "      <td>prod</td>\n",
              "      <td>NaN</td>\n",
              "      <td>None</td>\n",
              "      <td>53.418216</td>\n",
              "      <td>-6.149329</td>\n",
              "      <td>18.0</td>\n",
              "      <td>NaN</td>\n",
              "      <td>new_development_parent</td>\n",
              "      <td>NaN</td>\n",
              "      <td>NaN</td>\n",
              "    </tr>\n",
              "    <tr>\n",
              "      <th>1</th>\n",
              "      <td>999327</td>\n",
              "      <td>Lucan</td>\n",
              "      <td>NaN</td>\n",
              "      <td>NaN</td>\n",
              "      <td>NaN</td>\n",
              "      <td>Dublin</td>\n",
              "      <td>**Last 2 remaining houses for sale ***\\n\\nOn v...</td>\n",
              "      <td>prod</td>\n",
              "      <td>NaN</td>\n",
              "      <td>None</td>\n",
              "      <td>53.364917</td>\n",
              "      <td>-6.454935</td>\n",
              "      <td>3.0</td>\n",
              "      <td>NaN</td>\n",
              "      <td>new_development_parent</td>\n",
              "      <td>NaN</td>\n",
              "      <td>NaN</td>\n",
              "    </tr>\n",
              "    <tr>\n",
              "      <th>2</th>\n",
              "      <td>999559</td>\n",
              "      <td>Rathfarnham</td>\n",
              "      <td>NaN</td>\n",
              "      <td>NaN</td>\n",
              "      <td>NaN</td>\n",
              "      <td>Dublin</td>\n",
              "      <td>Final 4 &amp;amp; 5 Bedroom Homes for Sale\\n\\nOn V...</td>\n",
              "      <td>prod</td>\n",
              "      <td>NaN</td>\n",
              "      <td>None</td>\n",
              "      <td>53.273447</td>\n",
              "      <td>-6.313821</td>\n",
              "      <td>3.0</td>\n",
              "      <td>NaN</td>\n",
              "      <td>new_development_parent</td>\n",
              "      <td>NaN</td>\n",
              "      <td>NaN</td>\n",
              "    </tr>\n",
              "    <tr>\n",
              "      <th>3</th>\n",
              "      <td>9102986</td>\n",
              "      <td>Balbriggan</td>\n",
              "      <td>NaN</td>\n",
              "      <td>NaN</td>\n",
              "      <td>NaN</td>\n",
              "      <td>Dublin</td>\n",
              "      <td>Glenveagh Taylor Hill, Balbriggan\\n\\r\\n*Ideal ...</td>\n",
              "      <td>prod</td>\n",
              "      <td>NaN</td>\n",
              "      <td>None</td>\n",
              "      <td>53.608167</td>\n",
              "      <td>-6.210914</td>\n",
              "      <td>30.0</td>\n",
              "      <td>NaN</td>\n",
              "      <td>new_development_parent</td>\n",
              "      <td>NaN</td>\n",
              "      <td>NaN</td>\n",
              "    </tr>\n",
              "    <tr>\n",
              "      <th>4</th>\n",
              "      <td>9106028</td>\n",
              "      <td>Foxrock</td>\n",
              "      <td>NaN</td>\n",
              "      <td>NaN</td>\n",
              "      <td>NaN</td>\n",
              "      <td>Dublin</td>\n",
              "      <td>*New phase launching this weekend Sat &amp;amp; Su...</td>\n",
              "      <td>prod</td>\n",
              "      <td>NaN</td>\n",
              "      <td>None</td>\n",
              "      <td>53.262531</td>\n",
              "      <td>-6.181527</td>\n",
              "      <td>8.0</td>\n",
              "      <td>NaN</td>\n",
              "      <td>new_development_parent</td>\n",
              "      <td>NaN</td>\n",
              "      <td>NaN</td>\n",
              "    </tr>\n",
              "  </tbody>\n",
              "</table>\n",
              "</div>"
            ],
            "text/plain": [
              "     ad_id         area  ...  property_type  surface\n",
              "0   996887  Portmarnock  ...            NaN      NaN\n",
              "1   999327        Lucan  ...            NaN      NaN\n",
              "2   999559  Rathfarnham  ...            NaN      NaN\n",
              "3  9102986   Balbriggan  ...            NaN      NaN\n",
              "4  9106028      Foxrock  ...            NaN      NaN\n",
              "\n",
              "[5 rows x 17 columns]"
            ]
          },
          "metadata": {},
          "execution_count": 12
        }
      ]
    },
    {
      "cell_type": "code",
      "metadata": {
        "colab": {
          "base_uri": "https://localhost:8080/"
        },
        "id": "d-7tBg8zjN84",
        "outputId": "342c5109-7600-484c-f894-40c53ca3630f"
      },
      "source": [
        "# The shape function is used for show the number of observation and variable\n",
        "# in the dataset\n",
        "dftrain.shape"
      ],
      "execution_count": 13,
      "outputs": [
        {
          "output_type": "execute_result",
          "data": {
            "text/plain": [
              "(2982, 17)"
            ]
          },
          "metadata": {},
          "execution_count": 13
        }
      ]
    },
    {
      "cell_type": "code",
      "metadata": {
        "colab": {
          "base_uri": "https://localhost:8080/"
        },
        "id": "B6gu35C6kWb-",
        "outputId": "1a7dd269-2601-4792-b0ca-49ea14f6d660"
      },
      "source": [
        "# let see some information about the dataset\n",
        "dftrain.info()"
      ],
      "execution_count": 14,
      "outputs": [
        {
          "output_type": "stream",
          "name": "stdout",
          "text": [
            "<class 'pandas.core.frame.DataFrame'>\n",
            "RangeIndex: 2982 entries, 0 to 2981\n",
            "Data columns (total 17 columns):\n",
            " #   Column              Non-Null Count  Dtype  \n",
            "---  ------              --------------  -----  \n",
            " 0   ad_id               2982 non-null   int64  \n",
            " 1   area                2982 non-null   object \n",
            " 2   bathrooms           2931 non-null   float64\n",
            " 3   beds                2931 non-null   float64\n",
            " 4   ber_classification  2305 non-null   object \n",
            " 5   county              2982 non-null   object \n",
            " 6   description_block   2982 non-null   object \n",
            " 7   environment         2982 non-null   object \n",
            " 8   facility            965 non-null    object \n",
            " 9   features            2982 non-null   object \n",
            " 10  latitude            2982 non-null   float64\n",
            " 11  longitude           2982 non-null   float64\n",
            " 12  no_of_units         59 non-null     float64\n",
            " 13  price               2892 non-null   float64\n",
            " 14  property_category   2982 non-null   object \n",
            " 15  property_type       2931 non-null   object \n",
            " 16  surface             2431 non-null   float64\n",
            "dtypes: float64(7), int64(1), object(9)\n",
            "memory usage: 396.2+ KB\n"
          ]
        }
      ]
    },
    {
      "cell_type": "code",
      "metadata": {
        "colab": {
          "base_uri": "https://localhost:8080/"
        },
        "id": "BZaMAvnPlXfe",
        "outputId": "71233abc-e815-49ba-d111-4d32e82e5c7c"
      },
      "source": [
        "# the function isna give us information about missing value in an observation\n",
        "# the function sum() give us the total\n",
        "dftrain.isna().sum()"
      ],
      "execution_count": 15,
      "outputs": [
        {
          "output_type": "execute_result",
          "data": {
            "text/plain": [
              "ad_id                    0\n",
              "area                     0\n",
              "bathrooms               51\n",
              "beds                    51\n",
              "ber_classification     677\n",
              "county                   0\n",
              "description_block        0\n",
              "environment              0\n",
              "facility              2017\n",
              "features                 0\n",
              "latitude                 0\n",
              "longitude                0\n",
              "no_of_units           2923\n",
              "price                   90\n",
              "property_category        0\n",
              "property_type           51\n",
              "surface                551\n",
              "dtype: int64"
            ]
          },
          "metadata": {},
          "execution_count": 15
        }
      ]
    },
    {
      "cell_type": "code",
      "metadata": {
        "id": "5rq_p-D4yLBe",
        "colab": {
          "base_uri": "https://localhost:8080/",
          "height": 300
        },
        "outputId": "8b2b735b-b855-4225-e893-d55c9e97fb46"
      },
      "source": [
        "# Generate descriptive statistics\n",
        "dftrain.describe()"
      ],
      "execution_count": 16,
      "outputs": [
        {
          "output_type": "execute_result",
          "data": {
            "text/html": [
              "<div>\n",
              "<style scoped>\n",
              "    .dataframe tbody tr th:only-of-type {\n",
              "        vertical-align: middle;\n",
              "    }\n",
              "\n",
              "    .dataframe tbody tr th {\n",
              "        vertical-align: top;\n",
              "    }\n",
              "\n",
              "    .dataframe thead th {\n",
              "        text-align: right;\n",
              "    }\n",
              "</style>\n",
              "<table border=\"1\" class=\"dataframe\">\n",
              "  <thead>\n",
              "    <tr style=\"text-align: right;\">\n",
              "      <th></th>\n",
              "      <th>ad_id</th>\n",
              "      <th>bathrooms</th>\n",
              "      <th>beds</th>\n",
              "      <th>latitude</th>\n",
              "      <th>longitude</th>\n",
              "      <th>no_of_units</th>\n",
              "      <th>price</th>\n",
              "      <th>surface</th>\n",
              "    </tr>\n",
              "  </thead>\n",
              "  <tbody>\n",
              "    <tr>\n",
              "      <th>count</th>\n",
              "      <td>2.982000e+03</td>\n",
              "      <td>2931.000000</td>\n",
              "      <td>2931.000000</td>\n",
              "      <td>2982.000000</td>\n",
              "      <td>2982.000000</td>\n",
              "      <td>59.000000</td>\n",
              "      <td>2.892000e+03</td>\n",
              "      <td>2431.000000</td>\n",
              "    </tr>\n",
              "    <tr>\n",
              "      <th>mean</th>\n",
              "      <td>1.224065e+07</td>\n",
              "      <td>1.998635</td>\n",
              "      <td>2.979188</td>\n",
              "      <td>53.355991</td>\n",
              "      <td>-6.257175</td>\n",
              "      <td>7.440678</td>\n",
              "      <td>5.323536e+05</td>\n",
              "      <td>318.851787</td>\n",
              "    </tr>\n",
              "    <tr>\n",
              "      <th>std</th>\n",
              "      <td>5.793037e+05</td>\n",
              "      <td>1.291875</td>\n",
              "      <td>1.468408</td>\n",
              "      <td>0.086748</td>\n",
              "      <td>0.141906</td>\n",
              "      <td>8.937081</td>\n",
              "      <td>5.678148e+05</td>\n",
              "      <td>4389.423136</td>\n",
              "    </tr>\n",
              "    <tr>\n",
              "      <th>min</th>\n",
              "      <td>9.968870e+05</td>\n",
              "      <td>0.000000</td>\n",
              "      <td>0.000000</td>\n",
              "      <td>51.458439</td>\n",
              "      <td>-6.521183</td>\n",
              "      <td>0.000000</td>\n",
              "      <td>1.999500e+04</td>\n",
              "      <td>3.400000</td>\n",
              "    </tr>\n",
              "    <tr>\n",
              "      <th>25%</th>\n",
              "      <td>1.226813e+07</td>\n",
              "      <td>1.000000</td>\n",
              "      <td>2.000000</td>\n",
              "      <td>53.298929</td>\n",
              "      <td>-6.314064</td>\n",
              "      <td>2.000000</td>\n",
              "      <td>2.800000e+05</td>\n",
              "      <td>74.100000</td>\n",
              "    </tr>\n",
              "    <tr>\n",
              "      <th>50%</th>\n",
              "      <td>1.237758e+07</td>\n",
              "      <td>2.000000</td>\n",
              "      <td>3.000000</td>\n",
              "      <td>53.345497</td>\n",
              "      <td>-6.252254</td>\n",
              "      <td>3.000000</td>\n",
              "      <td>3.800000e+05</td>\n",
              "      <td>100.000000</td>\n",
              "    </tr>\n",
              "    <tr>\n",
              "      <th>75%</th>\n",
              "      <td>1.240294e+07</td>\n",
              "      <td>3.000000</td>\n",
              "      <td>4.000000</td>\n",
              "      <td>53.388845</td>\n",
              "      <td>-6.196049</td>\n",
              "      <td>8.000000</td>\n",
              "      <td>5.750000e+05</td>\n",
              "      <td>142.000000</td>\n",
              "    </tr>\n",
              "    <tr>\n",
              "      <th>max</th>\n",
              "      <td>1.242836e+07</td>\n",
              "      <td>18.000000</td>\n",
              "      <td>27.000000</td>\n",
              "      <td>53.630588</td>\n",
              "      <td>-1.744995</td>\n",
              "      <td>36.000000</td>\n",
              "      <td>9.995000e+06</td>\n",
              "      <td>182108.539008</td>\n",
              "    </tr>\n",
              "  </tbody>\n",
              "</table>\n",
              "</div>"
            ],
            "text/plain": [
              "              ad_id    bathrooms  ...         price        surface\n",
              "count  2.982000e+03  2931.000000  ...  2.892000e+03    2431.000000\n",
              "mean   1.224065e+07     1.998635  ...  5.323536e+05     318.851787\n",
              "std    5.793037e+05     1.291875  ...  5.678148e+05    4389.423136\n",
              "min    9.968870e+05     0.000000  ...  1.999500e+04       3.400000\n",
              "25%    1.226813e+07     1.000000  ...  2.800000e+05      74.100000\n",
              "50%    1.237758e+07     2.000000  ...  3.800000e+05     100.000000\n",
              "75%    1.240294e+07     3.000000  ...  5.750000e+05     142.000000\n",
              "max    1.242836e+07    18.000000  ...  9.995000e+06  182108.539008\n",
              "\n",
              "[8 rows x 8 columns]"
            ]
          },
          "metadata": {},
          "execution_count": 16
        }
      ]
    },
    {
      "cell_type": "code",
      "metadata": {
        "colab": {
          "base_uri": "https://localhost:8080/",
          "height": 542
        },
        "id": "j4ArmH1oo4k9",
        "outputId": "cb591537-d172-48d9-a71e-3e45591db618"
      },
      "source": [
        "# define the heat-map correlation\n",
        "fig, ax = plt.subplots(figsize=(11, 9))\n",
        "\n",
        "sns.heatmap(dftrain.corr(), annot=True)\n",
        "\n",
        "plt.show()"
      ],
      "execution_count": 17,
      "outputs": [
        {
          "output_type": "display_data",
          "data": {
            "image/png": "[encoded data removed]",
            "text/plain": [
              "<Figure size 792x648 with 2 Axes>"
            ]
          },
          "metadata": {
            "needs_background": "light"
          }
        }
      ]
    },
    {
      "cell_type": "markdown",
      "metadata": {
        "id": "ycFf7F0Aqrqn"
      },
      "source": [
        "The correlation map, show the field more correlated with the _price_, the feature are:\n",
        "\n",
        "\n",
        "*   bathrooms\n",
        "*   beds\n",
        "\n",
        "We use this features for define our Linear Regression\n",
        "\n"
      ]
    },
    {
      "cell_type": "code",
      "metadata": {
        "id": "loLTHklwKGnV"
      },
      "source": [
        "# split data into training and test\n",
        "from sklearn.model_selection import train_test_split\n",
        "\n",
        "# training: 70% (0.7), test: 30% (0.3) \n",
        "# you could try any other combination \n",
        "# but consider 50% of training as the low boundary\n",
        "# X_train,X_test,y_train,y_test = train_test_split(X, y, test_size=0.3)"
      ],
      "execution_count": 18,
      "outputs": []
    },
    {
      "cell_type": "markdown",
      "metadata": {
        "id": "Iqg9_uxFyZli"
      },
      "source": [
        "### Test dataset"
      ]
    },
    {
      "cell_type": "code",
      "metadata": {
        "id": "bw2_yypxMfsi",
        "colab": {
          "base_uri": "https://localhost:8080/",
          "height": 417
        },
        "outputId": "b2e5f68b-939d-44c7-9faf-b3e0f975cdaf"
      },
      "source": [
        "# show first data frame rows \n",
        "dftest.head()"
      ],
      "execution_count": 19,
      "outputs": [
        {
          "output_type": "execute_result",
          "data": {
            "text/html": [
              "<div>\n",
              "<style scoped>\n",
              "    .dataframe tbody tr th:only-of-type {\n",
              "        vertical-align: middle;\n",
              "    }\n",
              "\n",
              "    .dataframe tbody tr th {\n",
              "        vertical-align: top;\n",
              "    }\n",
              "\n",
              "    .dataframe thead th {\n",
              "        text-align: right;\n",
              "    }\n",
              "</style>\n",
              "<table border=\"1\" class=\"dataframe\">\n",
              "  <thead>\n",
              "    <tr style=\"text-align: right;\">\n",
              "      <th></th>\n",
              "      <th>ad_id</th>\n",
              "      <th>area</th>\n",
              "      <th>bathrooms</th>\n",
              "      <th>beds</th>\n",
              "      <th>ber_classification</th>\n",
              "      <th>county</th>\n",
              "      <th>description_block</th>\n",
              "      <th>environment</th>\n",
              "      <th>facility</th>\n",
              "      <th>features</th>\n",
              "      <th>latitude</th>\n",
              "      <th>longitude</th>\n",
              "      <th>no_of_units</th>\n",
              "      <th>property_category</th>\n",
              "      <th>property_type</th>\n",
              "      <th>surface</th>\n",
              "    </tr>\n",
              "  </thead>\n",
              "  <tbody>\n",
              "    <tr>\n",
              "      <th>0</th>\n",
              "      <td>12373510</td>\n",
              "      <td>Skerries</td>\n",
              "      <td>2.0</td>\n",
              "      <td>4.0</td>\n",
              "      <td>G</td>\n",
              "      <td>Dublin</td>\n",
              "      <td>It's all in the name \"Island View\";. Truly won...</td>\n",
              "      <td>prod</td>\n",
              "      <td>Parking,Alarm,Oil Fired Central Heating</td>\n",
              "      <td>Breath-taking panoramic views radiate from thi...</td>\n",
              "      <td>53.566881</td>\n",
              "      <td>-6.101148</td>\n",
              "      <td>NaN</td>\n",
              "      <td>sale</td>\n",
              "      <td>bungalow</td>\n",
              "      <td>142.0</td>\n",
              "    </tr>\n",
              "    <tr>\n",
              "      <th>1</th>\n",
              "      <td>12422623</td>\n",
              "      <td>Lucan</td>\n",
              "      <td>2.0</td>\n",
              "      <td>3.0</td>\n",
              "      <td>C1</td>\n",
              "      <td>Dublin</td>\n",
              "      <td>REA McDonald - Lucan' s longest established es...</td>\n",
              "      <td>prod</td>\n",
              "      <td>NaN</td>\n",
              "      <td>Gas fired central heating.\\nDouble glazed wind...</td>\n",
              "      <td>53.362992</td>\n",
              "      <td>-6.452909</td>\n",
              "      <td>NaN</td>\n",
              "      <td>sale</td>\n",
              "      <td>terraced</td>\n",
              "      <td>114.0</td>\n",
              "    </tr>\n",
              "    <tr>\n",
              "      <th>2</th>\n",
              "      <td>12377408</td>\n",
              "      <td>Swords</td>\n",
              "      <td>3.0</td>\n",
              "      <td>4.0</td>\n",
              "      <td>B3</td>\n",
              "      <td>Dublin</td>\n",
              "      <td>REA Grimes are proud to present to the market ...</td>\n",
              "      <td>prod</td>\n",
              "      <td>NaN</td>\n",
              "      <td>Pristine condition throughout\\nHighly sought-a...</td>\n",
              "      <td>53.454198</td>\n",
              "      <td>-6.262964</td>\n",
              "      <td>NaN</td>\n",
              "      <td>sale</td>\n",
              "      <td>semi-detached</td>\n",
              "      <td>172.0</td>\n",
              "    </tr>\n",
              "    <tr>\n",
              "      <th>3</th>\n",
              "      <td>12420093</td>\n",
              "      <td>Lucan</td>\n",
              "      <td>4.0</td>\n",
              "      <td>3.0</td>\n",
              "      <td>A3</td>\n",
              "      <td>Dublin</td>\n",
              "      <td>REA McDonald, Lucan' s longest established est...</td>\n",
              "      <td>prod</td>\n",
              "      <td>NaN</td>\n",
              "      <td>A-rated home within a short walk of Lucan Vill...</td>\n",
              "      <td>53.354402</td>\n",
              "      <td>-6.458647</td>\n",
              "      <td>NaN</td>\n",
              "      <td>sale</td>\n",
              "      <td>semi-detached</td>\n",
              "      <td>132.4</td>\n",
              "    </tr>\n",
              "    <tr>\n",
              "      <th>4</th>\n",
              "      <td>12417338</td>\n",
              "      <td>Clondalkin</td>\n",
              "      <td>1.0</td>\n",
              "      <td>3.0</td>\n",
              "      <td>E2</td>\n",
              "      <td>Dublin</td>\n",
              "      <td>Hibernian Auctioneers are delighted to bring, ...</td>\n",
              "      <td>prod</td>\n",
              "      <td>Parking,Gas Fired Central Heating,Wired for Ca...</td>\n",
              "      <td>Mature Location \\nGas Heating \\nClose to Ameni...</td>\n",
              "      <td>53.336530</td>\n",
              "      <td>-6.393587</td>\n",
              "      <td>NaN</td>\n",
              "      <td>sale</td>\n",
              "      <td>semi-detached</td>\n",
              "      <td>88.0</td>\n",
              "    </tr>\n",
              "  </tbody>\n",
              "</table>\n",
              "</div>"
            ],
            "text/plain": [
              "      ad_id        area  bathrooms  ...  property_category  property_type surface\n",
              "0  12373510    Skerries        2.0  ...               sale       bungalow   142.0\n",
              "1  12422623       Lucan        2.0  ...               sale       terraced   114.0\n",
              "2  12377408      Swords        3.0  ...               sale  semi-detached   172.0\n",
              "3  12420093       Lucan        4.0  ...               sale  semi-detached   132.4\n",
              "4  12417338  Clondalkin        1.0  ...               sale  semi-detached    88.0\n",
              "\n",
              "[5 rows x 16 columns]"
            ]
          },
          "metadata": {},
          "execution_count": 19
        }
      ]
    },
    {
      "cell_type": "code",
      "metadata": {
        "colab": {
          "base_uri": "https://localhost:8080/"
        },
        "id": "FiaeyHczviCB",
        "outputId": "4eb17244-a940-4c6d-c9c6-30286d70ce08"
      },
      "source": [
        "# The shape function is used for show the number of observation and variable\n",
        "# in the dataset\n",
        "dftest.shape"
      ],
      "execution_count": 20,
      "outputs": [
        {
          "output_type": "execute_result",
          "data": {
            "text/plain": [
              "(500, 16)"
            ]
          },
          "metadata": {},
          "execution_count": 20
        }
      ]
    },
    {
      "cell_type": "code",
      "metadata": {
        "colab": {
          "base_uri": "https://localhost:8080/"
        },
        "id": "j1V8fPL1vqPr",
        "outputId": "4963ad61-870c-4cd1-939b-b40239dda894"
      },
      "source": [
        "# let see some information about the dataset\n",
        "dftest.info()"
      ],
      "execution_count": 21,
      "outputs": [
        {
          "output_type": "stream",
          "name": "stdout",
          "text": [
            "<class 'pandas.core.frame.DataFrame'>\n",
            "RangeIndex: 500 entries, 0 to 499\n",
            "Data columns (total 16 columns):\n",
            " #   Column              Non-Null Count  Dtype  \n",
            "---  ------              --------------  -----  \n",
            " 0   ad_id               500 non-null    int64  \n",
            " 1   area                500 non-null    object \n",
            " 2   bathrooms           500 non-null    float64\n",
            " 3   beds                500 non-null    float64\n",
            " 4   ber_classification  444 non-null    object \n",
            " 5   county              500 non-null    object \n",
            " 6   description_block   500 non-null    object \n",
            " 7   environment         500 non-null    object \n",
            " 8   facility            189 non-null    object \n",
            " 9   features            500 non-null    object \n",
            " 10  latitude            500 non-null    float64\n",
            " 11  longitude           500 non-null    float64\n",
            " 12  no_of_units         0 non-null      float64\n",
            " 13  property_category   500 non-null    object \n",
            " 14  property_type       500 non-null    object \n",
            " 15  surface             500 non-null    float64\n",
            "dtypes: float64(6), int64(1), object(9)\n",
            "memory usage: 62.6+ KB\n"
          ]
        }
      ]
    },
    {
      "cell_type": "code",
      "metadata": {
        "id": "FXo0x2u7T7-1",
        "colab": {
          "base_uri": "https://localhost:8080/",
          "height": 300
        },
        "outputId": "e4dc8184-3005-40a7-f4f0-b1a9368747bc"
      },
      "source": [
        "# Generate descriptive statistics\n",
        "dftest.describe()"
      ],
      "execution_count": 22,
      "outputs": [
        {
          "output_type": "execute_result",
          "data": {
            "text/html": [
              "<div>\n",
              "<style scoped>\n",
              "    .dataframe tbody tr th:only-of-type {\n",
              "        vertical-align: middle;\n",
              "    }\n",
              "\n",
              "    .dataframe tbody tr th {\n",
              "        vertical-align: top;\n",
              "    }\n",
              "\n",
              "    .dataframe thead th {\n",
              "        text-align: right;\n",
              "    }\n",
              "</style>\n",
              "<table border=\"1\" class=\"dataframe\">\n",
              "  <thead>\n",
              "    <tr style=\"text-align: right;\">\n",
              "      <th></th>\n",
              "      <th>ad_id</th>\n",
              "      <th>bathrooms</th>\n",
              "      <th>beds</th>\n",
              "      <th>latitude</th>\n",
              "      <th>longitude</th>\n",
              "      <th>no_of_units</th>\n",
              "      <th>surface</th>\n",
              "    </tr>\n",
              "  </thead>\n",
              "  <tbody>\n",
              "    <tr>\n",
              "      <th>count</th>\n",
              "      <td>5.000000e+02</td>\n",
              "      <td>500.000000</td>\n",
              "      <td>500.000000</td>\n",
              "      <td>500.000000</td>\n",
              "      <td>500.000000</td>\n",
              "      <td>0.0</td>\n",
              "      <td>500.000000</td>\n",
              "    </tr>\n",
              "    <tr>\n",
              "      <th>mean</th>\n",
              "      <td>1.231695e+07</td>\n",
              "      <td>1.994000</td>\n",
              "      <td>2.930000</td>\n",
              "      <td>53.356034</td>\n",
              "      <td>-6.247842</td>\n",
              "      <td>NaN</td>\n",
              "      <td>156.007671</td>\n",
              "    </tr>\n",
              "    <tr>\n",
              "      <th>std</th>\n",
              "      <td>1.485832e+05</td>\n",
              "      <td>1.106532</td>\n",
              "      <td>1.191612</td>\n",
              "      <td>0.081905</td>\n",
              "      <td>0.088552</td>\n",
              "      <td>NaN</td>\n",
              "      <td>344.497362</td>\n",
              "    </tr>\n",
              "    <tr>\n",
              "      <th>min</th>\n",
              "      <td>1.130615e+07</td>\n",
              "      <td>0.000000</td>\n",
              "      <td>0.000000</td>\n",
              "      <td>53.221348</td>\n",
              "      <td>-6.496987</td>\n",
              "      <td>NaN</td>\n",
              "      <td>33.500000</td>\n",
              "    </tr>\n",
              "    <tr>\n",
              "      <th>25%</th>\n",
              "      <td>1.228617e+07</td>\n",
              "      <td>1.000000</td>\n",
              "      <td>2.000000</td>\n",
              "      <td>53.297373</td>\n",
              "      <td>-6.296404</td>\n",
              "      <td>NaN</td>\n",
              "      <td>72.375000</td>\n",
              "    </tr>\n",
              "    <tr>\n",
              "      <th>50%</th>\n",
              "      <td>1.237964e+07</td>\n",
              "      <td>2.000000</td>\n",
              "      <td>3.000000</td>\n",
              "      <td>53.339547</td>\n",
              "      <td>-6.243572</td>\n",
              "      <td>NaN</td>\n",
              "      <td>98.000000</td>\n",
              "    </tr>\n",
              "    <tr>\n",
              "      <th>75%</th>\n",
              "      <td>1.240544e+07</td>\n",
              "      <td>3.000000</td>\n",
              "      <td>4.000000</td>\n",
              "      <td>53.381650</td>\n",
              "      <td>-6.185055</td>\n",
              "      <td>NaN</td>\n",
              "      <td>138.935000</td>\n",
              "    </tr>\n",
              "    <tr>\n",
              "      <th>max</th>\n",
              "      <td>1.242809e+07</td>\n",
              "      <td>8.000000</td>\n",
              "      <td>7.000000</td>\n",
              "      <td>53.619775</td>\n",
              "      <td>-6.064874</td>\n",
              "      <td>NaN</td>\n",
              "      <td>5746.536120</td>\n",
              "    </tr>\n",
              "  </tbody>\n",
              "</table>\n",
              "</div>"
            ],
            "text/plain": [
              "              ad_id   bathrooms  ...  no_of_units      surface\n",
              "count  5.000000e+02  500.000000  ...          0.0   500.000000\n",
              "mean   1.231695e+07    1.994000  ...          NaN   156.007671\n",
              "std    1.485832e+05    1.106532  ...          NaN   344.497362\n",
              "min    1.130615e+07    0.000000  ...          NaN    33.500000\n",
              "25%    1.228617e+07    1.000000  ...          NaN    72.375000\n",
              "50%    1.237964e+07    2.000000  ...          NaN    98.000000\n",
              "75%    1.240544e+07    3.000000  ...          NaN   138.935000\n",
              "max    1.242809e+07    8.000000  ...          NaN  5746.536120\n",
              "\n",
              "[8 rows x 7 columns]"
            ]
          },
          "metadata": {},
          "execution_count": 22
        }
      ]
    },
    {
      "cell_type": "code",
      "metadata": {
        "colab": {
          "base_uri": "https://localhost:8080/"
        },
        "id": "vtVzNjtzY4Sk",
        "outputId": "14c3df7d-d1a2-410a-a3c5-8bbbde2f903b"
      },
      "source": [
        "# count the NAN in the train Dataset\n",
        "dftest.isna().sum()"
      ],
      "execution_count": 23,
      "outputs": [
        {
          "output_type": "execute_result",
          "data": {
            "text/plain": [
              "ad_id                   0\n",
              "area                    0\n",
              "bathrooms               0\n",
              "beds                    0\n",
              "ber_classification     56\n",
              "county                  0\n",
              "description_block       0\n",
              "environment             0\n",
              "facility              311\n",
              "features                0\n",
              "latitude                0\n",
              "longitude               0\n",
              "no_of_units           500\n",
              "property_category       0\n",
              "property_type           0\n",
              "surface                 0\n",
              "dtype: int64"
            ]
          },
          "metadata": {},
          "execution_count": 23
        }
      ]
    },
    {
      "cell_type": "code",
      "metadata": {
        "colab": {
          "base_uri": "https://localhost:8080/",
          "height": 542
        },
        "id": "ZaVZHUfIwisN",
        "outputId": "528a3edb-e9c0-4dd5-e228-3ea43b57fb3b"
      },
      "source": [
        "# define the heat-map correlation\n",
        "fig, ax = plt.subplots(figsize=(11, 9))\n",
        "\n",
        "sns.heatmap(dftest.corr(), annot=True)\n",
        "\n",
        "plt.show()"
      ],
      "execution_count": 24,
      "outputs": [
        {
          "output_type": "display_data",
          "data": {
            "image/png": "[encoded data removed]",
            "text/plain": [
              "<Figure size 792x648 with 2 Axes>"
            ]
          },
          "metadata": {
            "needs_background": "light"
          }
        }
      ]
    },
    {
      "cell_type": "markdown",
      "metadata": {
        "id": "UjMH1CSEUA1A"
      },
      "source": [
        "### Expected Cost dataset"
      ]
    },
    {
      "cell_type": "code",
      "metadata": {
        "colab": {
          "base_uri": "https://localhost:8080/",
          "height": 206
        },
        "id": "PpONcwrhBk8C",
        "outputId": "41abcbeb-3210-47c5-fc1b-936dff4fbdd3"
      },
      "source": [
        "dfcost.head()"
      ],
      "execution_count": 25,
      "outputs": [
        {
          "output_type": "execute_result",
          "data": {
            "text/html": [
              "<div>\n",
              "<style scoped>\n",
              "    .dataframe tbody tr th:only-of-type {\n",
              "        vertical-align: middle;\n",
              "    }\n",
              "\n",
              "    .dataframe tbody tr th {\n",
              "        vertical-align: top;\n",
              "    }\n",
              "\n",
              "    .dataframe thead th {\n",
              "        text-align: right;\n",
              "    }\n",
              "</style>\n",
              "<table border=\"1\" class=\"dataframe\">\n",
              "  <thead>\n",
              "    <tr style=\"text-align: right;\">\n",
              "      <th></th>\n",
              "      <th>Id</th>\n",
              "      <th>Expected</th>\n",
              "    </tr>\n",
              "  </thead>\n",
              "  <tbody>\n",
              "    <tr>\n",
              "      <th>0</th>\n",
              "      <td>12373510</td>\n",
              "      <td>875000.0</td>\n",
              "    </tr>\n",
              "    <tr>\n",
              "      <th>1</th>\n",
              "      <td>12422623</td>\n",
              "      <td>355000.0</td>\n",
              "    </tr>\n",
              "    <tr>\n",
              "      <th>2</th>\n",
              "      <td>12377408</td>\n",
              "      <td>440000.0</td>\n",
              "    </tr>\n",
              "    <tr>\n",
              "      <th>3</th>\n",
              "      <td>12420093</td>\n",
              "      <td>425000.0</td>\n",
              "    </tr>\n",
              "    <tr>\n",
              "      <th>4</th>\n",
              "      <td>12417338</td>\n",
              "      <td>265000.0</td>\n",
              "    </tr>\n",
              "  </tbody>\n",
              "</table>\n",
              "</div>"
            ],
            "text/plain": [
              "         Id  Expected\n",
              "0  12373510  875000.0\n",
              "1  12422623  355000.0\n",
              "2  12377408  440000.0\n",
              "3  12420093  425000.0\n",
              "4  12417338  265000.0"
            ]
          },
          "metadata": {},
          "execution_count": 25
        }
      ]
    },
    {
      "cell_type": "code",
      "metadata": {
        "colab": {
          "base_uri": "https://localhost:8080/"
        },
        "id": "1o8xZn0vZI9B",
        "outputId": "a4a50344-08fb-4f75-f031-85aaaaf810e8"
      },
      "source": [
        "dfcost.isna().sum()"
      ],
      "execution_count": 26,
      "outputs": [
        {
          "output_type": "execute_result",
          "data": {
            "text/plain": [
              "Id          0\n",
              "Expected    0\n",
              "dtype: int64"
            ]
          },
          "metadata": {},
          "execution_count": 26
        }
      ]
    },
    {
      "cell_type": "code",
      "metadata": {
        "id": "7p63sCZeUNx3",
        "colab": {
          "base_uri": "https://localhost:8080/",
          "height": 300
        },
        "outputId": "a120d494-5e42-4f6a-a94c-2c534c91813b"
      },
      "source": [
        "# Generate descriptive statistics\n",
        "dfcost.describe()"
      ],
      "execution_count": 27,
      "outputs": [
        {
          "output_type": "execute_result",
          "data": {
            "text/html": [
              "<div>\n",
              "<style scoped>\n",
              "    .dataframe tbody tr th:only-of-type {\n",
              "        vertical-align: middle;\n",
              "    }\n",
              "\n",
              "    .dataframe tbody tr th {\n",
              "        vertical-align: top;\n",
              "    }\n",
              "\n",
              "    .dataframe thead th {\n",
              "        text-align: right;\n",
              "    }\n",
              "</style>\n",
              "<table border=\"1\" class=\"dataframe\">\n",
              "  <thead>\n",
              "    <tr style=\"text-align: right;\">\n",
              "      <th></th>\n",
              "      <th>Id</th>\n",
              "      <th>Expected</th>\n",
              "    </tr>\n",
              "  </thead>\n",
              "  <tbody>\n",
              "    <tr>\n",
              "      <th>count</th>\n",
              "      <td>5.000000e+02</td>\n",
              "      <td>5.000000e+02</td>\n",
              "    </tr>\n",
              "    <tr>\n",
              "      <th>mean</th>\n",
              "      <td>1.231695e+07</td>\n",
              "      <td>5.810356e+05</td>\n",
              "    </tr>\n",
              "    <tr>\n",
              "      <th>std</th>\n",
              "      <td>1.485832e+05</td>\n",
              "      <td>6.009194e+05</td>\n",
              "    </tr>\n",
              "    <tr>\n",
              "      <th>min</th>\n",
              "      <td>1.130615e+07</td>\n",
              "      <td>8.500000e+04</td>\n",
              "    </tr>\n",
              "    <tr>\n",
              "      <th>25%</th>\n",
              "      <td>1.228617e+07</td>\n",
              "      <td>2.950000e+05</td>\n",
              "    </tr>\n",
              "    <tr>\n",
              "      <th>50%</th>\n",
              "      <td>1.237964e+07</td>\n",
              "      <td>4.250000e+05</td>\n",
              "    </tr>\n",
              "    <tr>\n",
              "      <th>75%</th>\n",
              "      <td>1.240544e+07</td>\n",
              "      <td>5.950000e+05</td>\n",
              "    </tr>\n",
              "    <tr>\n",
              "      <th>max</th>\n",
              "      <td>1.242809e+07</td>\n",
              "      <td>5.750000e+06</td>\n",
              "    </tr>\n",
              "  </tbody>\n",
              "</table>\n",
              "</div>"
            ],
            "text/plain": [
              "                 Id      Expected\n",
              "count  5.000000e+02  5.000000e+02\n",
              "mean   1.231695e+07  5.810356e+05\n",
              "std    1.485832e+05  6.009194e+05\n",
              "min    1.130615e+07  8.500000e+04\n",
              "25%    1.228617e+07  2.950000e+05\n",
              "50%    1.237964e+07  4.250000e+05\n",
              "75%    1.240544e+07  5.950000e+05\n",
              "max    1.242809e+07  5.750000e+06"
            ]
          },
          "metadata": {},
          "execution_count": 27
        }
      ]
    },
    {
      "cell_type": "markdown",
      "metadata": {
        "id": "bJFJQxAS9HZK"
      },
      "source": [
        "# PIECEWISE REGRESSION"
      ]
    },
    {
      "cell_type": "markdown",
      "metadata": {
        "id": "uQ_1QsLToIDi"
      },
      "source": [
        "## Full Model"
      ]
    },
    {
      "cell_type": "code",
      "metadata": {
        "id": "Yv5j1KzzMUnm"
      },
      "source": [
        "# select some features columns just for the baseline model\n",
        "# assume not all of the features are informative or useful\n",
        "# in this exercise you could try all of them if possible\n",
        "\n",
        "featrain = ['beds','bathrooms','price']\n",
        "# dropna: remove missing values\n",
        "df_subset_train = dftrain[featrain].dropna(axis=0)\n",
        "\n",
        "featest = ['beds','bathrooms']\n",
        "df_subset_test  =  dftest[featest].dropna(axis=0)\n",
        "\n",
        "# cost\n",
        "dfcost = dfcost[dfcost.index.isin(df_subset_test.index)]"
      ],
      "execution_count": 31,
      "outputs": []
    },
    {
      "cell_type": "code",
      "metadata": {
        "id": "PZK2kfygoIDi",
        "colab": {
          "base_uri": "https://localhost:8080/",
          "height": 237
        },
        "outputId": "fa9e7308-7fcc-457a-e47f-e5d3845b14bf"
      },
      "source": [
        "# model\n",
        "with pm.Model() as model:\n",
        "    #prior over the parameters of linear regression\n",
        "    alpha = pm.Normal('alpha', mu=0, sigma=30)\n",
        "    #we have one beta for each column of Xn\n",
        "    beta = pm.Normal('beta', mu=0, sigma=30, shape=Xn_train.shape[1])\n",
        "    #prior over the variance of the noise\n",
        "    sigma = pm.HalfCauchy('sigma_n', 5)\n",
        "    #linear regression model in matrix form\n",
        "    mu = alpha + pm.math.dot(beta, Xn_train.T)\n",
        "    #likelihood, be sure that observed is a 1d vector\n",
        "    like = pm.Normal('like', mu=mu, sigma=sigma, observed=yn_train[:,0])\n",
        "    "
      ],
      "execution_count": 32,
      "outputs": [
        {
          "output_type": "error",
          "ename": "NameError",
          "evalue": "ignored",
          "traceback": [
            "\u001b[0;31m---------------------------------------------------------------------------\u001b[0m",
            "\u001b[0;31mNameError\u001b[0m                                 Traceback (most recent call last)",
            "\u001b[0;32m<ipython-input-32-76cb9cede2bb>\u001b[0m in \u001b[0;36m<module>\u001b[0;34m()\u001b[0m\n\u001b[1;32m      4\u001b[0m     \u001b[0malpha\u001b[0m \u001b[0;34m=\u001b[0m \u001b[0mpm\u001b[0m\u001b[0;34m.\u001b[0m\u001b[0mNormal\u001b[0m\u001b[0;34m(\u001b[0m\u001b[0;34m'alpha'\u001b[0m\u001b[0;34m,\u001b[0m \u001b[0mmu\u001b[0m\u001b[0;34m=\u001b[0m\u001b[0;36m0\u001b[0m\u001b[0;34m,\u001b[0m \u001b[0msigma\u001b[0m\u001b[0;34m=\u001b[0m\u001b[0;36m30\u001b[0m\u001b[0;34m)\u001b[0m\u001b[0;34m\u001b[0m\u001b[0;34m\u001b[0m\u001b[0m\n\u001b[1;32m      5\u001b[0m     \u001b[0;31m#we have one beta for each column of Xn\u001b[0m\u001b[0;34m\u001b[0m\u001b[0;34m\u001b[0m\u001b[0;34m\u001b[0m\u001b[0m\n\u001b[0;32m----> 6\u001b[0;31m     \u001b[0mbeta\u001b[0m \u001b[0;34m=\u001b[0m \u001b[0mpm\u001b[0m\u001b[0;34m.\u001b[0m\u001b[0mNormal\u001b[0m\u001b[0;34m(\u001b[0m\u001b[0;34m'beta'\u001b[0m\u001b[0;34m,\u001b[0m \u001b[0mmu\u001b[0m\u001b[0;34m=\u001b[0m\u001b[0;36m0\u001b[0m\u001b[0;34m,\u001b[0m \u001b[0msigma\u001b[0m\u001b[0;34m=\u001b[0m\u001b[0;36m30\u001b[0m\u001b[0;34m,\u001b[0m \u001b[0mshape\u001b[0m\u001b[0;34m=\u001b[0m\u001b[0mXn_train\u001b[0m\u001b[0;34m.\u001b[0m\u001b[0mshape\u001b[0m\u001b[0;34m[\u001b[0m\u001b[0;36m1\u001b[0m\u001b[0;34m]\u001b[0m\u001b[0;34m)\u001b[0m\u001b[0;34m\u001b[0m\u001b[0;34m\u001b[0m\u001b[0m\n\u001b[0m\u001b[1;32m      7\u001b[0m     \u001b[0;31m#prior over the variance of the noise\u001b[0m\u001b[0;34m\u001b[0m\u001b[0;34m\u001b[0m\u001b[0;34m\u001b[0m\u001b[0m\n\u001b[1;32m      8\u001b[0m     \u001b[0msigma\u001b[0m \u001b[0;34m=\u001b[0m \u001b[0mpm\u001b[0m\u001b[0;34m.\u001b[0m\u001b[0mHalfCauchy\u001b[0m\u001b[0;34m(\u001b[0m\u001b[0;34m'sigma_n'\u001b[0m\u001b[0;34m,\u001b[0m \u001b[0;36m5\u001b[0m\u001b[0;34m)\u001b[0m\u001b[0;34m\u001b[0m\u001b[0;34m\u001b[0m\u001b[0m\n",
            "\u001b[0;31mNameError\u001b[0m: name 'Xn_train' is not defined"
          ]
        }
      ]
    },
    {
      "cell_type": "code",
      "metadata": {
        "id": "cIskuS3ToIDk"
      },
      "source": [
        "# prediction\n",
        "ll=np.mean(posterior['alpha']) + np.dot(np.mean(posterior['beta'],axis=0), Xn_test.T)\n",
        "y_pred_BLR = np.exp(yscaler.inverse_transform(ll.reshape(-1,1)))[:,0]\n",
        "print(\"MAE = \",(np.mean(abs(y_pred_BLR - y_test))))\n",
        "print(\"MAPE = \",(np.mean(abs(y_pred_BLR - y_test) / y_test)))"
      ],
      "execution_count": null,
      "outputs": []
    },
    {
      "cell_type": "markdown",
      "metadata": {
        "id": "q_jBBKvtoIDk"
      },
      "source": [
        "## Clustering"
      ]
    },
    {
      "cell_type": "markdown",
      "metadata": {
        "id": "VYFvbgYDaEOS"
      },
      "source": [
        "### Full Model"
      ]
    },
    {
      "cell_type": "code",
      "metadata": {
        "id": "iphQ53UE0iVw"
      },
      "source": [
        "# training gaussian mixture model \n",
        "from sklearn.mixture import GaussianMixture\n",
        "\n",
        "gmm = GaussianMixture(n_components=4)\n"
      ],
      "execution_count": null,
      "outputs": []
    },
    {
      "cell_type": "markdown",
      "metadata": {
        "id": "h51OhBV5Z4tY"
      },
      "source": [
        "### Clusters"
      ]
    },
    {
      "cell_type": "code",
      "metadata": {
        "id": "vNvx_KxrLt90"
      },
      "source": [
        "# train clusters\n",
        "\n"
      ],
      "execution_count": null,
      "outputs": []
    },
    {
      "cell_type": "code",
      "metadata": {
        "id": "-wTT4220zFNx"
      },
      "source": [
        "# test clusters\n"
      ],
      "execution_count": null,
      "outputs": []
    },
    {
      "cell_type": "markdown",
      "metadata": {
        "id": "dXF25ZDYoIDl"
      },
      "source": [
        "## Piecewise Model"
      ]
    },
    {
      "cell_type": "code",
      "metadata": {
        "id": "N1e-4ruvaJci"
      },
      "source": [
        "# model_0\n",
        "with pm.Model() as model_0:\n",
        "  # prior over the parameters of linear regression\n",
        "  alpha = pm.Normal('alpha', mu=0, sigma=30)\n",
        "  # we have a beta for each column of Xn0\n",
        "  beta = pm.Normal('beta', mu=0, sigma=30, shape=Xn0.shape[1])\n",
        "  # prior over the variance of the noise\n",
        "  sigma = pm.HalfCauchy('sigma_n', 5)\n",
        "  # linear regression relationship\n",
        "  #linear regression model in matrix form\n",
        "  mu = alpha + pm.math.dot(beta, Xn0.T)\n",
        "  # likelihood, be sure that observed is a 1d vector\n",
        "  like = pm.Normal('like', mu=mu, sigma=sigma, observed=yn0[:,0])\n",
        "\n"
      ],
      "execution_count": null,
      "outputs": []
    },
    {
      "cell_type": "markdown",
      "metadata": {
        "id": "wHBgUe1pcZQQ"
      },
      "source": [
        "##Simulations"
      ]
    },
    {
      "cell_type": "markdown",
      "metadata": {
        "id": "bfSEdYAUoIDn"
      },
      "source": [
        "### Only Cluster 0"
      ]
    },
    {
      "cell_type": "markdown",
      "metadata": {
        "id": "qgMUwBO7oIDq"
      },
      "source": [
        "## Overall"
      ]
    },
    {
      "cell_type": "markdown",
      "metadata": {
        "id": "QMY9rDvVoIDq"
      },
      "source": [
        "## Test set performance"
      ]
    },
    {
      "cell_type": "markdown",
      "metadata": {
        "id": "YGmB9BNkoIDr"
      },
      "source": [
        "### PPC on the Test set\n",
        "\n"
      ]
    },
    {
      "cell_type": "markdown",
      "metadata": {
        "id": "f0GYCpwEM09T"
      },
      "source": [
        "# SUMMARY"
      ]
    }
  ]
}