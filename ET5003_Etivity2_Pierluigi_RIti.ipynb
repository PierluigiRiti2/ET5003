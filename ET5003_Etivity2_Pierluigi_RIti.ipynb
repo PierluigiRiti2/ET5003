{
  "nbformat": 4,
  "nbformat_minor": 0,
  "metadata": {
    "colab": {
      "name": "ET5003_Etivity2_template.ipynb",
      "provenance": [],
      "collapsed_sections": []
    },
    "kernelspec": {
      "name": "python3",
      "display_name": "Python 3"
    },
    "language_info": {
      "name": "python"
    }
  },
  "cells": [
    {
      "cell_type": "markdown",
      "metadata": {
        "id": "930vlW5BrOtq"
      },
      "source": [
        "<div>\n",
        "<img src=\"https://drive.google.com/uc?export=view&id=1vK33e_EqaHgBHcbRV_m38hx6IkG0blK_\" width=\"350\"/>\n",
        "</div> \n",
        "\n",
        "#**Artificial Intelligence - MSc**\n",
        "##ET5003 - MACHINE LEARNING APPLICATIONS \n",
        "\n",
        "###Instructor: Enrique Naredo\n",
        "###ET5003_Etivity-2"
      ]
    },
    {
      "cell_type": "code",
      "metadata": {
        "id": "LqXD_IwUQuBF",
        "cellView": "form"
      },
      "source": [
        "#@title Current Date\n",
        "Today = '2021-09-22' #@param {type:\"date\"}\n"
      ],
      "execution_count": 1,
      "outputs": []
    },
    {
      "cell_type": "code",
      "metadata": {
        "id": "uzDKau31OjVO",
        "cellView": "form"
      },
      "source": [
        "#@markdown ---\n",
        "#@markdown ### Enter your details here:\n",
        "Student_ID = \"18213561 \" #@param {type:\"string\"}\n",
        "Student_full_name = \"Pierluigi Riti\" #@param {type:\"string\"}\n",
        "#@markdown ---"
      ],
      "execution_count": 2,
      "outputs": []
    },
    {
      "cell_type": "code",
      "metadata": {
        "id": "r39xGZckTpKx",
        "cellView": "form"
      },
      "source": [
        "#@title Notebook information\n",
        "Notebook_type = 'Etivity' #@param [\"Example\", \"Lab\", \"Practice\", \"Etivity\", \"Assignment\", \"Exam\"]\n",
        "Version = 'Draft' #@param [\"Draft\", \"Final\"] {type:\"raw\"}\n",
        "Submission = False #@param {type:\"boolean\"}"
      ],
      "execution_count": 3,
      "outputs": []
    },
    {
      "cell_type": "markdown",
      "metadata": {
        "id": "_A0Z6S-r6DpA"
      },
      "source": [
        "# INTRODUCTION"
      ]
    },
    {
      "cell_type": "markdown",
      "metadata": {
        "id": "QkRchZtf6IV-"
      },
      "source": [
        "**Piecewise regression**, extract from [Wikipedia](https://en.wikipedia.org/wiki/Segmented_regression):\n",
        "\n",
        "Segmented regression, also known as piecewise regression or broken-stick regression, is a method in regression analysis in which the independent variable is partitioned into intervals and a separate line segment is fit to each interval. \n",
        "\n",
        "* Segmented regression analysis can also be performed on \n",
        "multivariate data by partitioning the various independent variables. \n",
        "* Segmented regression is useful when the independent variables, clustered into different groups, exhibit different relationships between the variables in these regions. \n",
        "\n",
        "* The boundaries between the segments are breakpoints.\n",
        "\n",
        "* Segmented linear regression is segmented regression whereby the relations in the intervals are obtained by linear regression. "
      ]
    },
    {
      "cell_type": "markdown",
      "metadata": {
        "id": "aajlS0WCJ8pm"
      },
      "source": [
        "***The goal is to use advanced Machine Learning methods to predict House price.***"
      ]
    },
    {
      "cell_type": "markdown",
      "metadata": {
        "id": "Wg7VCbX77eAA"
      },
      "source": [
        "## Imports"
      ]
    },
    {
      "cell_type": "code",
      "metadata": {
        "id": "iFFLThrpwibd"
      },
      "source": [
        "# Suppressing Warnings:\n",
        "import warnings\n",
        "warnings.filterwarnings(\"ignore\")"
      ],
      "execution_count": 4,
      "outputs": []
    },
    {
      "cell_type": "code",
      "metadata": {
        "id": "d1770_fNrCWn"
      },
      "source": [
        "import pandas as pd\n",
        "import matplotlib.pyplot as plt\n",
        "import numpy as np\n",
        "import pymc3 as pm\n",
        "import arviz as az\n",
        "import seaborn as sns # use Seaborn for the hotmap correlation\n",
        "from sklearn.preprocessing import StandardScaler"
      ],
      "execution_count": 5,
      "outputs": []
    },
    {
      "cell_type": "code",
      "metadata": {
        "id": "sYPJU_Y6O6Dq"
      },
      "source": [
        "# to plot\n",
        "import matplotlib.colors\n",
        "from mpl_toolkits.mplot3d import Axes3D\n",
        "\n",
        "# to generate classification, regression and clustering datasets\n",
        "import sklearn.datasets as dt\n",
        "\n",
        "# to create data frames\n",
        "from pandas import DataFrame\n",
        "\n",
        "# to generate data from an existing dataset\n",
        "from sklearn.neighbors import KernelDensity\n",
        "from sklearn.model_selection import GridSearchCV"
      ],
      "execution_count": 6,
      "outputs": []
    },
    {
      "cell_type": "code",
      "metadata": {
        "id": "6MUJdlxSPSMM"
      },
      "source": [
        "# Define the seed so that results can be reproduced\n",
        "seed = 11\n",
        "rand_state = 11\n",
        "\n",
        "# Define the color maps for plots\n",
        "color_map = plt.cm.get_cmap('RdYlBu')\n",
        "color_map_discrete = matplotlib.colors.LinearSegmentedColormap.from_list(\"\", [\"red\",\"cyan\",\"magenta\",\"blue\"])"
      ],
      "execution_count": 7,
      "outputs": []
    },
    {
      "cell_type": "markdown",
      "metadata": {
        "id": "WL91ShB19RPw"
      },
      "source": [
        "# DATASET"
      ]
    },
    {
      "cell_type": "markdown",
      "metadata": {
        "id": "ESg5DGKWJSOf"
      },
      "source": [
        "Extract from this [paper](https://ieeexplore.ieee.org/document/9300074):\n",
        "\n",
        "* House prices are a significant impression of the economy, and its value ranges are of great concerns for the clients and property dealers. \n",
        "\n",
        "* Housing price escalate every year that eventually reinforced the need of strategy or technique that could predict house prices in future. \n",
        "\n",
        "* There are certain factors that influence house prices including physical conditions, locations, number of bedrooms and others.\n"
      ]
    },
    {
      "cell_type": "markdown",
      "metadata": {
        "id": "a8Y2pf50FlYL"
      },
      "source": [
        "1. [Download the dataset](https://github.com/UL-ET5003/ET5003_SEM1_2021-2/tree/main/Week-3). \n",
        "\n",
        "2. Upload the dataset into your folder.\n",
        "\n"
      ]
    },
    {
      "cell_type": "markdown",
      "metadata": {
        "id": "FMkdCQEmKTof"
      },
      "source": [
        "The challenge is to predict the final price of each house."
      ]
    },
    {
      "cell_type": "markdown",
      "metadata": {
        "id": "2PMoPLlUJ1Ly"
      },
      "source": [
        "## Training & Test Data"
      ]
    },
    {
      "cell_type": "code",
      "metadata": {
        "colab": {
          "base_uri": "https://localhost:8080/"
        },
        "id": "P4o_rb5Nz4h3",
        "outputId": "56b01578-bfab-4f24-bdbc-c99923a6b0cb"
      },
      "source": [
        "# Mount Google drive\n",
        "from google.colab import drive\n",
        "drive.mount('/content/drive')"
      ],
      "execution_count": 8,
      "outputs": [
        {
          "output_type": "stream",
          "name": "stdout",
          "text": [
            "Drive already mounted at /content/drive; to attempt to forcibly remount, call drive.mount(\"/content/drive\", force_remount=True).\n"
          ]
        }
      ]
    },
    {
      "cell_type": "code",
      "metadata": {
        "id": "5Wk-aFIjz6o-"
      },
      "source": [
        "# path to Google Drive\n",
        "pathDrive = '/content/drive/MyDrive/Colab Notebooks/Etivity3/'"
      ],
      "execution_count": 9,
      "outputs": []
    },
    {
      "cell_type": "code",
      "metadata": {
        "id": "vIkr-Tga0OQO"
      },
      "source": [
        "folderName = 'House_Dataset/'\n",
        "\n",
        "syntPath = pathDrive+folderName\n",
        "# training dataset: \n",
        "training_file = syntPath+\"house_train.csv\"\n",
        "# test dataset: \n",
        "testing_file = syntPath+\"house_test.csv\"\n",
        "# cost dataset: \n",
        "cost_file = syntPath+\"true_price.csv\""
      ],
      "execution_count": 10,
      "outputs": []
    },
    {
      "cell_type": "markdown",
      "metadata": {
        "id": "HeQgdZ6SfIH0"
      },
      "source": [
        "# Exploratory Data Analysis(EDA)\n",
        "Exploratory Data Analysis, EDA, involves looking and describing the data set from different point of views."
      ]
    },
    {
      "cell_type": "markdown",
      "metadata": {
        "id": "ztBkSZluye87"
      },
      "source": [
        "### Train dataset"
      ]
    },
    {
      "cell_type": "code",
      "metadata": {
        "id": "3gcI2aUKe_q-"
      },
      "source": [
        "# Exploratory Data Analysis(EDA)\n",
        "# Load the data in the Pandas dataframe\n",
        "dftrain = pd.read_csv(training_file)\n",
        "# remove the first column of the dataset\n",
        "dftrain = dftrain.drop(columns=\"ad_id\", axis=1)\n",
        "\n",
        "dftest = pd.read_csv(testing_file)\n",
        "# remove the first column of the dataset\n",
        "# dftest = dftest.drop(columns=\"ad_id\", axis=1)\n",
        "\n",
        "dfcost = pd.read_csv(cost_file)"
      ],
      "execution_count": 11,
      "outputs": []
    },
    {
      "cell_type": "code",
      "metadata": {
        "colab": {
          "base_uri": "https://localhost:8080/"
        },
        "id": "d-7tBg8zjN84",
        "outputId": "2d276663-62f0-467d-f214-593231660046"
      },
      "source": [
        "# The shape function is used for show the number of observation and variable\n",
        "# in the dataset\n",
        "dftrain.shape"
      ],
      "execution_count": 12,
      "outputs": [
        {
          "output_type": "execute_result",
          "data": {
            "text/plain": [
              "(2982, 16)"
            ]
          },
          "metadata": {},
          "execution_count": 12
        }
      ]
    },
    {
      "cell_type": "code",
      "metadata": {
        "id": "6XUFUPABMHfF",
        "colab": {
          "base_uri": "https://localhost:8080/",
          "height": 394
        },
        "outputId": "e8fa8493-7f57-498f-fd4b-c1001e79c4dc"
      },
      "source": [
        "# show first data frame rows \n",
        "dftrain.head()"
      ],
      "execution_count": 13,
      "outputs": [
        {
          "output_type": "execute_result",
          "data": {
            "text/html": [
              "<div>\n",
              "<style scoped>\n",
              "    .dataframe tbody tr th:only-of-type {\n",
              "        vertical-align: middle;\n",
              "    }\n",
              "\n",
              "    .dataframe tbody tr th {\n",
              "        vertical-align: top;\n",
              "    }\n",
              "\n",
              "    .dataframe thead th {\n",
              "        text-align: right;\n",
              "    }\n",
              "</style>\n",
              "<table border=\"1\" class=\"dataframe\">\n",
              "  <thead>\n",
              "    <tr style=\"text-align: right;\">\n",
              "      <th></th>\n",
              "      <th>area</th>\n",
              "      <th>bathrooms</th>\n",
              "      <th>beds</th>\n",
              "      <th>ber_classification</th>\n",
              "      <th>county</th>\n",
              "      <th>description_block</th>\n",
              "      <th>environment</th>\n",
              "      <th>facility</th>\n",
              "      <th>features</th>\n",
              "      <th>latitude</th>\n",
              "      <th>longitude</th>\n",
              "      <th>no_of_units</th>\n",
              "      <th>price</th>\n",
              "      <th>property_category</th>\n",
              "      <th>property_type</th>\n",
              "      <th>surface</th>\n",
              "    </tr>\n",
              "  </thead>\n",
              "  <tbody>\n",
              "    <tr>\n",
              "      <th>0</th>\n",
              "      <td>Portmarnock</td>\n",
              "      <td>NaN</td>\n",
              "      <td>NaN</td>\n",
              "      <td>NaN</td>\n",
              "      <td>Dublin</td>\n",
              "      <td>A SELECTION OF 4 AND 5 BEDROOM FAMILY HOMES LO...</td>\n",
              "      <td>prod</td>\n",
              "      <td>NaN</td>\n",
              "      <td>None</td>\n",
              "      <td>53.418216</td>\n",
              "      <td>-6.149329</td>\n",
              "      <td>18.0</td>\n",
              "      <td>NaN</td>\n",
              "      <td>new_development_parent</td>\n",
              "      <td>NaN</td>\n",
              "      <td>NaN</td>\n",
              "    </tr>\n",
              "    <tr>\n",
              "      <th>1</th>\n",
              "      <td>Lucan</td>\n",
              "      <td>NaN</td>\n",
              "      <td>NaN</td>\n",
              "      <td>NaN</td>\n",
              "      <td>Dublin</td>\n",
              "      <td>**Last 2 remaining houses for sale ***\\n\\nOn v...</td>\n",
              "      <td>prod</td>\n",
              "      <td>NaN</td>\n",
              "      <td>None</td>\n",
              "      <td>53.364917</td>\n",
              "      <td>-6.454935</td>\n",
              "      <td>3.0</td>\n",
              "      <td>NaN</td>\n",
              "      <td>new_development_parent</td>\n",
              "      <td>NaN</td>\n",
              "      <td>NaN</td>\n",
              "    </tr>\n",
              "    <tr>\n",
              "      <th>2</th>\n",
              "      <td>Rathfarnham</td>\n",
              "      <td>NaN</td>\n",
              "      <td>NaN</td>\n",
              "      <td>NaN</td>\n",
              "      <td>Dublin</td>\n",
              "      <td>Final 4 &amp;amp; 5 Bedroom Homes for Sale\\n\\nOn V...</td>\n",
              "      <td>prod</td>\n",
              "      <td>NaN</td>\n",
              "      <td>None</td>\n",
              "      <td>53.273447</td>\n",
              "      <td>-6.313821</td>\n",
              "      <td>3.0</td>\n",
              "      <td>NaN</td>\n",
              "      <td>new_development_parent</td>\n",
              "      <td>NaN</td>\n",
              "      <td>NaN</td>\n",
              "    </tr>\n",
              "    <tr>\n",
              "      <th>3</th>\n",
              "      <td>Balbriggan</td>\n",
              "      <td>NaN</td>\n",
              "      <td>NaN</td>\n",
              "      <td>NaN</td>\n",
              "      <td>Dublin</td>\n",
              "      <td>Glenveagh Taylor Hill, Balbriggan\\n\\r\\n*Ideal ...</td>\n",
              "      <td>prod</td>\n",
              "      <td>NaN</td>\n",
              "      <td>None</td>\n",
              "      <td>53.608167</td>\n",
              "      <td>-6.210914</td>\n",
              "      <td>30.0</td>\n",
              "      <td>NaN</td>\n",
              "      <td>new_development_parent</td>\n",
              "      <td>NaN</td>\n",
              "      <td>NaN</td>\n",
              "    </tr>\n",
              "    <tr>\n",
              "      <th>4</th>\n",
              "      <td>Foxrock</td>\n",
              "      <td>NaN</td>\n",
              "      <td>NaN</td>\n",
              "      <td>NaN</td>\n",
              "      <td>Dublin</td>\n",
              "      <td>*New phase launching this weekend Sat &amp;amp; Su...</td>\n",
              "      <td>prod</td>\n",
              "      <td>NaN</td>\n",
              "      <td>None</td>\n",
              "      <td>53.262531</td>\n",
              "      <td>-6.181527</td>\n",
              "      <td>8.0</td>\n",
              "      <td>NaN</td>\n",
              "      <td>new_development_parent</td>\n",
              "      <td>NaN</td>\n",
              "      <td>NaN</td>\n",
              "    </tr>\n",
              "  </tbody>\n",
              "</table>\n",
              "</div>"
            ],
            "text/plain": [
              "          area  bathrooms  beds  ...       property_category property_type surface\n",
              "0  Portmarnock        NaN   NaN  ...  new_development_parent           NaN     NaN\n",
              "1        Lucan        NaN   NaN  ...  new_development_parent           NaN     NaN\n",
              "2  Rathfarnham        NaN   NaN  ...  new_development_parent           NaN     NaN\n",
              "3   Balbriggan        NaN   NaN  ...  new_development_parent           NaN     NaN\n",
              "4      Foxrock        NaN   NaN  ...  new_development_parent           NaN     NaN\n",
              "\n",
              "[5 rows x 16 columns]"
            ]
          },
          "metadata": {},
          "execution_count": 13
        }
      ]
    },
    {
      "cell_type": "code",
      "metadata": {
        "colab": {
          "base_uri": "https://localhost:8080/"
        },
        "id": "B6gu35C6kWb-",
        "outputId": "b077bd9a-a730-48cc-8abe-6eec8c657c52"
      },
      "source": [
        "# let see some information about the dataset\n",
        "dftrain.info()"
      ],
      "execution_count": 14,
      "outputs": [
        {
          "output_type": "stream",
          "name": "stdout",
          "text": [
            "<class 'pandas.core.frame.DataFrame'>\n",
            "RangeIndex: 2982 entries, 0 to 2981\n",
            "Data columns (total 16 columns):\n",
            " #   Column              Non-Null Count  Dtype  \n",
            "---  ------              --------------  -----  \n",
            " 0   area                2982 non-null   object \n",
            " 1   bathrooms           2931 non-null   float64\n",
            " 2   beds                2931 non-null   float64\n",
            " 3   ber_classification  2305 non-null   object \n",
            " 4   county              2982 non-null   object \n",
            " 5   description_block   2982 non-null   object \n",
            " 6   environment         2982 non-null   object \n",
            " 7   facility            965 non-null    object \n",
            " 8   features            2982 non-null   object \n",
            " 9   latitude            2982 non-null   float64\n",
            " 10  longitude           2982 non-null   float64\n",
            " 11  no_of_units         59 non-null     float64\n",
            " 12  price               2892 non-null   float64\n",
            " 13  property_category   2982 non-null   object \n",
            " 14  property_type       2931 non-null   object \n",
            " 15  surface             2431 non-null   float64\n",
            "dtypes: float64(7), object(9)\n",
            "memory usage: 372.9+ KB\n"
          ]
        }
      ]
    },
    {
      "cell_type": "code",
      "metadata": {
        "colab": {
          "base_uri": "https://localhost:8080/"
        },
        "id": "BZaMAvnPlXfe",
        "outputId": "1cf03282-bbc9-43c8-b0de-15a0d7be6b22"
      },
      "source": [
        "# the function isna give us information about missing value in an observation\n",
        "# the function sum() give us the total\n",
        "dftrain.isna().sum()"
      ],
      "execution_count": 15,
      "outputs": [
        {
          "output_type": "execute_result",
          "data": {
            "text/plain": [
              "area                     0\n",
              "bathrooms               51\n",
              "beds                    51\n",
              "ber_classification     677\n",
              "county                   0\n",
              "description_block        0\n",
              "environment              0\n",
              "facility              2017\n",
              "features                 0\n",
              "latitude                 0\n",
              "longitude                0\n",
              "no_of_units           2923\n",
              "price                   90\n",
              "property_category        0\n",
              "property_type           51\n",
              "surface                551\n",
              "dtype: int64"
            ]
          },
          "metadata": {},
          "execution_count": 15
        }
      ]
    },
    {
      "cell_type": "markdown",
      "metadata": {
        "id": "T4r-5qZpW9dF"
      },
      "source": [
        "For better understand how to manipulate the data, I try to isolate the different feature with object and see the data contained inside"
      ]
    },
    {
      "cell_type": "code",
      "metadata": {
        "colab": {
          "base_uri": "https://localhost:8080/"
        },
        "id": "A_soSudHVjb9",
        "outputId": "55f5b907-49a9-4d2a-c9fa-32349247f2c5"
      },
      "source": [
        "for label, contains in dftrain.items():\n",
        "  if dftrain[label].dtypes == 'object':\n",
        "    print(\"Label %s\" % label)\n",
        "    print(dftrain[label].tail(5))"
      ],
      "execution_count": 16,
      "outputs": [
        {
          "output_type": "stream",
          "name": "stdout",
          "text": [
            "Label area\n",
            "2977    Ballsbridge\n",
            "2978         Rialto\n",
            "2979     Smithfield\n",
            "2980        Foxrock\n",
            "2981       Terenure\n",
            "Name: area, dtype: object\n",
            "Label ber_classification\n",
            "2977    C3\n",
            "2978    B2\n",
            "2979    C3\n",
            "2980    C3\n",
            "2981    D2\n",
            "Name: ber_classification, dtype: object\n",
            "Label county\n",
            "2977    Dublin\n",
            "2978    Dublin\n",
            "2979    Dublin\n",
            "2980    Dublin\n",
            "2981    Dublin\n",
            "Name: county, dtype: object\n",
            "Label description_block\n",
            "2977    Sherry FitzGerald are delighted to present Apa...\n",
            "2978    Property Team Patrick Moran is delighted to pr...\n",
            "2979    Earnest estate agents are delighted to present...\n",
            "2980    Janet Carroll Estate Agents are pleased to pre...\n",
            "2981    ON VIEW SATURDAY 7 TH MARCH 2020 11:30 AM - 12...\n",
            "Name: description_block, dtype: object\n",
            "Label environment\n",
            "2977    prod\n",
            "2978    prod\n",
            "2979    prod\n",
            "2980    prod\n",
            "2981    prod\n",
            "Name: environment, dtype: object\n",
            "Label facility\n",
            "2977                                  NaN\n",
            "2978                                  NaN\n",
            "2979           Wired for Cable Television\n",
            "2980    Parking,Gas Fired Central Heating\n",
            "2981                                  NaN\n",
            "Name: facility, dtype: object\n",
            "Label features\n",
            "2977    Prime Location\\nManagement Co: Core Property M...\n",
            "2978    Totally refurbished to the highest standard. \\...\n",
            "2979    OVERLOOKING THE RIVER LIFFEY \\n3RD FLOOR APART...\n",
            "2980                                                 None\n",
            "2981    Charming three-bedroom family home\\nMinutes aw...\n",
            "Name: features, dtype: object\n",
            "Label property_category\n",
            "2977    sale\n",
            "2978    sale\n",
            "2979    sale\n",
            "2980    sale\n",
            "2981    sale\n",
            "Name: property_category, dtype: object\n",
            "Label property_type\n",
            "2977         apartment\n",
            "2978          terraced\n",
            "2979         apartment\n",
            "2980    end-of-terrace\n",
            "2981     semi-detached\n",
            "Name: property_type, dtype: object\n"
          ]
        }
      ]
    },
    {
      "cell_type": "markdown",
      "metadata": {
        "id": "Zji7qiTUXw5B"
      },
      "source": [
        "The column _features_ is a free text, we can't really encode that. The columns:\n",
        "\n",
        "*  property_type\n",
        "*  county\n",
        "*  ber_classification\n",
        "*  area\n",
        "\n",
        "can be easily _Integer Encoded_ the other column can will be check later for understand if we can drop off "
      ]
    },
    {
      "cell_type": "code",
      "metadata": {
        "id": "5rq_p-D4yLBe",
        "colab": {
          "base_uri": "https://localhost:8080/",
          "height": 297
        },
        "outputId": "e5f17f1d-e9a3-4785-8469-3ed2f3bb92bd"
      },
      "source": [
        "# Generate descriptive statistics\n",
        "dftrain.describe()"
      ],
      "execution_count": 17,
      "outputs": [
        {
          "output_type": "execute_result",
          "data": {
            "text/html": [
              "<div>\n",
              "<style scoped>\n",
              "    .dataframe tbody tr th:only-of-type {\n",
              "        vertical-align: middle;\n",
              "    }\n",
              "\n",
              "    .dataframe tbody tr th {\n",
              "        vertical-align: top;\n",
              "    }\n",
              "\n",
              "    .dataframe thead th {\n",
              "        text-align: right;\n",
              "    }\n",
              "</style>\n",
              "<table border=\"1\" class=\"dataframe\">\n",
              "  <thead>\n",
              "    <tr style=\"text-align: right;\">\n",
              "      <th></th>\n",
              "      <th>bathrooms</th>\n",
              "      <th>beds</th>\n",
              "      <th>latitude</th>\n",
              "      <th>longitude</th>\n",
              "      <th>no_of_units</th>\n",
              "      <th>price</th>\n",
              "      <th>surface</th>\n",
              "    </tr>\n",
              "  </thead>\n",
              "  <tbody>\n",
              "    <tr>\n",
              "      <th>count</th>\n",
              "      <td>2931.000000</td>\n",
              "      <td>2931.000000</td>\n",
              "      <td>2982.000000</td>\n",
              "      <td>2982.000000</td>\n",
              "      <td>59.000000</td>\n",
              "      <td>2.892000e+03</td>\n",
              "      <td>2431.000000</td>\n",
              "    </tr>\n",
              "    <tr>\n",
              "      <th>mean</th>\n",
              "      <td>1.998635</td>\n",
              "      <td>2.979188</td>\n",
              "      <td>53.355991</td>\n",
              "      <td>-6.257175</td>\n",
              "      <td>7.440678</td>\n",
              "      <td>5.323536e+05</td>\n",
              "      <td>318.851787</td>\n",
              "    </tr>\n",
              "    <tr>\n",
              "      <th>std</th>\n",
              "      <td>1.291875</td>\n",
              "      <td>1.468408</td>\n",
              "      <td>0.086748</td>\n",
              "      <td>0.141906</td>\n",
              "      <td>8.937081</td>\n",
              "      <td>5.678148e+05</td>\n",
              "      <td>4389.423136</td>\n",
              "    </tr>\n",
              "    <tr>\n",
              "      <th>min</th>\n",
              "      <td>0.000000</td>\n",
              "      <td>0.000000</td>\n",
              "      <td>51.458439</td>\n",
              "      <td>-6.521183</td>\n",
              "      <td>0.000000</td>\n",
              "      <td>1.999500e+04</td>\n",
              "      <td>3.400000</td>\n",
              "    </tr>\n",
              "    <tr>\n",
              "      <th>25%</th>\n",
              "      <td>1.000000</td>\n",
              "      <td>2.000000</td>\n",
              "      <td>53.298929</td>\n",
              "      <td>-6.314064</td>\n",
              "      <td>2.000000</td>\n",
              "      <td>2.800000e+05</td>\n",
              "      <td>74.100000</td>\n",
              "    </tr>\n",
              "    <tr>\n",
              "      <th>50%</th>\n",
              "      <td>2.000000</td>\n",
              "      <td>3.000000</td>\n",
              "      <td>53.345497</td>\n",
              "      <td>-6.252254</td>\n",
              "      <td>3.000000</td>\n",
              "      <td>3.800000e+05</td>\n",
              "      <td>100.000000</td>\n",
              "    </tr>\n",
              "    <tr>\n",
              "      <th>75%</th>\n",
              "      <td>3.000000</td>\n",
              "      <td>4.000000</td>\n",
              "      <td>53.388845</td>\n",
              "      <td>-6.196049</td>\n",
              "      <td>8.000000</td>\n",
              "      <td>5.750000e+05</td>\n",
              "      <td>142.000000</td>\n",
              "    </tr>\n",
              "    <tr>\n",
              "      <th>max</th>\n",
              "      <td>18.000000</td>\n",
              "      <td>27.000000</td>\n",
              "      <td>53.630588</td>\n",
              "      <td>-1.744995</td>\n",
              "      <td>36.000000</td>\n",
              "      <td>9.995000e+06</td>\n",
              "      <td>182108.539008</td>\n",
              "    </tr>\n",
              "  </tbody>\n",
              "</table>\n",
              "</div>"
            ],
            "text/plain": [
              "         bathrooms         beds  ...         price        surface\n",
              "count  2931.000000  2931.000000  ...  2.892000e+03    2431.000000\n",
              "mean      1.998635     2.979188  ...  5.323536e+05     318.851787\n",
              "std       1.291875     1.468408  ...  5.678148e+05    4389.423136\n",
              "min       0.000000     0.000000  ...  1.999500e+04       3.400000\n",
              "25%       1.000000     2.000000  ...  2.800000e+05      74.100000\n",
              "50%       2.000000     3.000000  ...  3.800000e+05     100.000000\n",
              "75%       3.000000     4.000000  ...  5.750000e+05     142.000000\n",
              "max      18.000000    27.000000  ...  9.995000e+06  182108.539008\n",
              "\n",
              "[8 rows x 7 columns]"
            ]
          },
          "metadata": {},
          "execution_count": 17
        }
      ]
    },
    {
      "cell_type": "markdown",
      "metadata": {
        "id": "OaF-5PZ1RALh"
      },
      "source": [
        "# Data Description Analysis\n",
        "The dataset show some colums as an _int64_, some as a _float64_, and some other as an _object_. Because we want to use a linear regression, the algorithm work better with Number, because of that I transform some data with an **_Integer encoding_**.\n",
        "I apply the Integer Encoding on this features:\n",
        "\n",
        "\n",
        "*   ber_classification\n",
        "*   county\n",
        "*   property_type\n",
        "*   area\n",
        "\n",
        "The feature _features_ and _description_block_, _facility_ are a free text box this make the feature difficult to encode,for this reason I drop the column, from the the train dataset and the test dataset.\n",
        "\n"
      ]
    },
    {
      "cell_type": "markdown",
      "metadata": {
        "id": "EklwNuRdT6rK"
      },
      "source": [
        "Drop the colum in train and test"
      ]
    },
    {
      "cell_type": "code",
      "metadata": {
        "id": "iz6otq-tTyMi"
      },
      "source": [
        "# drop the train\n",
        "dftrain.drop('description_block', axis=1, inplace=True)\n",
        "dftrain.drop('features', axis=1, inplace=True)\n",
        "dftrain.drop('facility', axis=1, inplace=True)\n",
        "# drop the test\n",
        "dftest.drop('description_block', axis=1, inplace=True)\n",
        "dftest.drop('features', axis=1, inplace=True)\n",
        "dftest.drop('facility', axis=1, inplace=True)"
      ],
      "execution_count": 18,
      "outputs": []
    },
    {
      "cell_type": "markdown",
      "metadata": {
        "id": "_eIlDZQdUoT_"
      },
      "source": [
        "# Integer Encoding\n",
        "\n",
        "With the column dropped, let's use integer encoding on the other features:\n",
        "*   ber_classification\n",
        "*   county\n",
        "*   property_type\n",
        "*   area\n",
        "\n",
        "For the Integer Encoding I need to identify the unique value for every column, I can do that with the function _unique()_ from Pandas"
      ]
    },
    {
      "cell_type": "code",
      "metadata": {
        "colab": {
          "base_uri": "https://localhost:8080/"
        },
        "id": "f6cnGNrYUnN4",
        "outputId": "9debc599-dac6-4e2d-b13f-1260e3b58411"
      },
      "source": [
        "# Identify the unique value in the column for the ber_classification\n",
        "dftrain[\"ber_classification\"].unique()"
      ],
      "execution_count": 19,
      "outputs": [
        {
          "output_type": "execute_result",
          "data": {
            "text/plain": [
              "array([nan, 'A3', 'A2', 'E2', 'G', 'C1', 'F', 'C2', 'C3', 'D2', 'D1',\n",
              "       'B2', 'E1', 'SINo666of2006exempt', 'B3', 'B1', 'A1'], dtype=object)"
            ]
          },
          "metadata": {},
          "execution_count": 19
        }
      ]
    },
    {
      "cell_type": "code",
      "metadata": {
        "id": "oxteSztyhaPc"
      },
      "source": [
        "# Create the mapper for the ber_classification\n",
        "ber_mapper = {\n",
        "    \"A1\":1,\n",
        "    \"A2\":2,\n",
        "    \"A3\":3,\n",
        "    \"B1\":4,\n",
        "    \"B2\":5,\n",
        "    \"B3\":6,\n",
        "    \"C1\":7,\n",
        "    \"C2\":8,\n",
        "    \"C3\":9,\n",
        "    \"D1\":10,\n",
        "    \"D2\":11,\n",
        "    \"E1\":12,\n",
        "    \"E2\":13,\n",
        "    \"F\":14,\n",
        "    \"G\":15,\n",
        "    \"SINo666of2006exempt\":16\n",
        "}\n",
        "# apply the transformer on the train dataset and the test dataset\n",
        "dftrain[\"ber_classification\"] = dftrain[\"ber_classification\"].replace(ber_mapper)\n",
        "dftest[\"ber_classification\"] = dftest[\"ber_classification\"].replace(ber_mapper)"
      ],
      "execution_count": 20,
      "outputs": []
    },
    {
      "cell_type": "code",
      "metadata": {
        "colab": {
          "base_uri": "https://localhost:8080/"
        },
        "id": "4lzDDHZZiTtP",
        "outputId": "90de0b99-ec15-4a95-f2af-b107f6cca595"
      },
      "source": [
        "# Identify the unique value for the county\n",
        "dftrain[\"county\"].unique()"
      ],
      "execution_count": 21,
      "outputs": [
        {
          "output_type": "execute_result",
          "data": {
            "text/plain": [
              "array(['Dublin'], dtype=object)"
            ]
          },
          "metadata": {},
          "execution_count": 21
        }
      ]
    },
    {
      "cell_type": "code",
      "metadata": {
        "id": "wKiGrpECkpgC"
      },
      "source": [
        "# Create the mapper for the county\n",
        "county_mapper = {\n",
        "    \"Dublin\":1\n",
        "}\n",
        "# apply the transformer on the train dataset and the test dataset\n",
        "dftrain[\"county\"] = dftrain[\"county\"].replace(county_mapper)\n",
        "dftest[\"county\"] = dftest[\"county\"].replace(county_mapper)"
      ],
      "execution_count": 22,
      "outputs": []
    },
    {
      "cell_type": "code",
      "metadata": {
        "colab": {
          "base_uri": "https://localhost:8080/"
        },
        "id": "Hm--EgrFljtg",
        "outputId": "a8c60d61-efa7-444e-f87a-61b6a0154ae6"
      },
      "source": [
        "# Identify the unique value for the property_type\n",
        "dftrain[\"property_type\"].unique()"
      ],
      "execution_count": 23,
      "outputs": [
        {
          "output_type": "execute_result",
          "data": {
            "text/plain": [
              "array([nan, 'detached', 'semi-detached', 'apartment', 'terraced', 'site',\n",
              "       'bungalow', 'townhouse', 'end-of-terrace', 'duplex', 'studio'],\n",
              "      dtype=object)"
            ]
          },
          "metadata": {},
          "execution_count": 23
        }
      ]
    },
    {
      "cell_type": "code",
      "metadata": {
        "id": "QNtstYvRmFsN"
      },
      "source": [
        "# Create the mapper for the property_type\n",
        "property_type_mapper = {\n",
        "    \"nan\":1,\n",
        "    \"detached\":2,\n",
        "    \"semi-detached\":3,\n",
        "    \"apartment\":4,\n",
        "    \"terraced\":5,\n",
        "    \"site\":6,\n",
        "    \"bungalow\":7,\n",
        "    \"townhouse\":8,\n",
        "    \"end-of-terrace\":9,\n",
        "    \"duplex\":10,\n",
        "    \"studio\":11\n",
        "}\n",
        "# apply the transformer on the train dataset and the test dataset\n",
        "dftrain[\"property_type\"] = dftrain[\"property_type\"].replace(property_type_mapper)\n",
        "dftest[\"property_type\"] = dftest[\"property_type\"].replace(property_type_mapper)"
      ],
      "execution_count": 24,
      "outputs": []
    },
    {
      "cell_type": "code",
      "metadata": {
        "colab": {
          "base_uri": "https://localhost:8080/"
        },
        "id": "EDjgBgA1mnEq",
        "outputId": "41ea31b9-a00f-4ef0-f49f-23c5097a2b8e"
      },
      "source": [
        "# Identify the unique value for the Area\n",
        "dftrain[\"area\"].unique()"
      ],
      "execution_count": 25,
      "outputs": [
        {
          "output_type": "execute_result",
          "data": {
            "text/plain": [
              "array(['Portmarnock', 'Lucan', 'Rathfarnham', 'Balbriggan', 'Foxrock',\n",
              "       'Blackrock', 'Templeogue', 'Ballyboughal', 'Ballycullen',\n",
              "       'Cabinteely', 'Glasnevin', 'Skerries', 'Clongriffin', 'Clonee',\n",
              "       'Killiney', 'Newcastle', 'Donabate', 'Dublin 2', 'Lusk',\n",
              "       'Clondalkin', 'Rathgar', 'Glenageary', 'Goatstown',\n",
              "       'Dun Laoghaire', 'Howth', 'Castleknock', 'Citywest', 'Malahide',\n",
              "       'Swords', 'Rush', 'Shankill', 'Stepaside', 'Donaghmede',\n",
              "       'Dublin 4', 'Baldoyle', 'Ranelagh', 'Carrickmines', 'Rathmichael',\n",
              "       'Loughshinny', 'Finglas', 'Dublin 1', 'Ballsbridge', 'Sandycove',\n",
              "       'Dalkey', 'Dublin 8', 'Booterstown', 'Ballymun', 'Navan Road (D7)',\n",
              "       'Cabra', 'Garristown', 'Rialto', 'Drumcondra', 'Clontarf',\n",
              "       'Dundrum', 'Donnybrook', 'Santry', 'Blanchardstown', 'Sandyford',\n",
              "       'Palmerstown', 'Sandymount', 'Terenure', 'Crumlin', 'Saggart',\n",
              "       'Mulhuddart', 'Whitehall', 'Walkinstown', 'Christchurch',\n",
              "       'Clonskeagh', 'Phibsborough', 'Clonsilla', 'Ringsend',\n",
              "       'Churchtown', 'Dublin 7', 'Tyrrelstown', 'Ballybrack',\n",
              "       'Mount Merrion', 'Rathmines', 'The Ward', 'Kilternan', 'Sutton',\n",
              "       \"Harold's Cross\", 'Clarehall', 'Firhouse', 'Portobello',\n",
              "       'Killester', 'Monkstown', 'Kilmore', 'Milltown', 'Tallaght',\n",
              "       'Ballymount', 'Loughlinstown', 'Clonshaugh', 'East Wall',\n",
              "       'Grand Canal Dock', 'Leopardstown', 'Artane', 'Kinsealy',\n",
              "       'Poppintree', 'Kimmage', 'Knocklyon', \"Dolphin's Barn\", 'Raheny',\n",
              "       'Naul', 'Inchicore', 'Adamstown', 'IFSC', 'Kilmainham', 'Darndale',\n",
              "       'Kilnamanagh', 'Rathcoole', 'Fairview', 'Ard Na Greine',\n",
              "       'North Circular Road', 'Beaumont', 'Temple Bar', 'Drimnagh',\n",
              "       'Coolock', 'Donnycarney', 'Stoneybatter', 'Ballyfermot',\n",
              "       'Balgriffin', 'North Strand', 'Smithfield', 'Ballinascorney',\n",
              "       'Coolmine', 'Sallynoggin', 'Ongar', 'Marino', 'Dartry',\n",
              "       'Ballinteer', 'Hartstown', 'Ashtown', 'Kilmacud', 'Carpenterstown',\n",
              "       'Park West', 'Irishtown', 'Chapelizod', 'Balrothery', 'Ballybough',\n",
              "       'Greenhills', 'Perrystown', 'Brittas', 'Bluebell', 'Kingswood',\n",
              "       'The Coombe', 'Edenmore', 'Merrion', 'Oldbawn', 'Deansgrange',\n",
              "       'Bayside', 'Windy Arbour', 'Cherry Orchard', 'Islandbridge',\n",
              "       'South Circular Road', 'Kiltipper', \"St Margaret's\"], dtype=object)"
            ]
          },
          "metadata": {},
          "execution_count": 25
        }
      ]
    },
    {
      "cell_type": "code",
      "metadata": {
        "id": "uoju5RTWmr11"
      },
      "source": [
        "# Create the mapper for the area\n",
        "area_mapper = {\n",
        "    \"Portmarnock\":1,\"Lucan\":2,\"Rathfarnham\":3,\"Balbriggan\":4,\"Foxrock\":5,\n",
        "    \"Blackrock\":6,\"Templeogue\":7,\"Ballyboughal\":8,\"Ballycullen\":9,\"Cabinteely\":10, \n",
        "    \"Glasnevin\":11,\"Skerries\":12,\"Clongriffin\":13,\"Clonee\":14,\"Killiney\":15, \n",
        "    \"Newcastle\":16,\"Donabate\":17,\"Dublin 2\":18,\"Lusk\":19,\"Clondalkin\":20, \n",
        "    \"Rathgar\": 21, \"Glenageary\": 22, \"Goatstown\": 23,\"Dun Laoghaire\": 24,\"Howth\": 25, \n",
        "    \"Castleknock\": 26,\"Citywest\": 27,\"Malahide\": 28,\"Swords\": 29,\"Rush\": 30,\n",
        "    \"Shankill\": 31,\"Stepaside\": 32,\"Donaghmede\": 33,\"Dublin 4\": 34,\"Baldoyle\": 35, \n",
        "    \"Ranelagh\": 36,\"Carrickmines\": 37,\"Rathmichael\": 38,\"Loughshinny\": 39,\"Finglas\": 40, \n",
        "    \"Dublin 1\": 41,\"Ballsbridge\": 42,\"Sandycove\": 43,\"Dalkey\": 44,\"Dublin 8\": 45,\n",
        "    \"Booterstown\": 46,\"Ballymun\": 47,\"Navan Road (D7)\": 48,\"Cabra\": 49,\"Garristown\": 50, \n",
        "    \"Rialto\": 51,\"Drumcondra\": 52,\"Clontarf\": 53,\"Dundrum\": 54,\"Donnybrook\": 55, \n",
        "    \"Santry\": 56,\"Blanchardstown\": 57,\"Sandyford\": 58,\"Palmerstown\": 59,\"Sandymount\": 60, \n",
        "    \"Terenure\": 61,\"Crumlin\": 62,\"Saggart\": 63,\"Mulhuddart\": 64,\"Whitehall\": 65, \n",
        "    \"Walkinstown\": 66,\"Christchurch\": 67,\"Clonskeagh\": 68,\"Phibsborough\": 69,\"Clonsilla\": 70, \n",
        "    \"Ringsend\": 71,\"Churchtown\": 72,\"Dublin 7\": 73,\"Tyrrelstown\": 74,\"Ballybrack\": 75,\n",
        "    \"Mount Merrion\": 76,\"Rathmines\": 77,\"The Ward\": 78,\"Kilternan\": 79,\"Sutton\": 80,\n",
        "    \"Harold's Cross\": 81,\"Clarehall\": 82,\"Firhouse\": 83,\"Portobello\": 84,\"Killester\": 85, \n",
        "    \"Monkstown\": 86,\"Kilmore\": 87,\"Milltown\": 88,\"Tallaght\": 89,\"Ballymount\": 90, \n",
        "    \"Loughlinstown\": 91,\"Clonshaugh\": 92,\"East Wall\": 93,\"Grand Canal Dock\": 94,\"Leopardstown\": 95, \n",
        "    \"Artane\": 96,\"Kinsealy\": 97,\"Poppintree\": 98,\"Kimmage\": 99,\"Knocklyon\":100, \n",
        "    \"Dolphin's Barn\": 101,\"Raheny\": 102,\"Naul\": 103,\"Inchicore\": 104,\"Adamstown\": 105, \n",
        "    \"IFSC\": 106,\"Kilmainham\": 107,\"Darndale\": 108,\"Kilnamanagh\": 109,\"Rathcoole\": 110, \n",
        "    \"Fairview\": 111, \"Ard Na Greine\": 112,\"North Circular Road\": 113, \"Beaumont\": 114, \n",
        "    \"Temple Bar\": 115,\"Drimnagh\": 116,\"Coolock\": 117, \"Donnycarney\": 118,\"Stoneybatter\": 119, \n",
        "    \"Ballyfermot\": 120,\"Balgriffin\": 121, \"North Strand\": 122, \"Smithfield\": 123, \n",
        "    \"Ballinascorney\": 124,\"Coolmine\": 125, \"Sallynoggin\": 126, \"Ongar\": 127, \"Marino\": 128, \n",
        "    \"Dartry\": 129,\"Ballinteer\": 130, \"Hartstown\": 131, \"Ashtown\": 132, \"Kilmacud\": 133, \n",
        "    \"Carpenterstown\": 134,\"Park West\": 135, \"Irishtown\": 136, \"Chapelizod\": 137, \n",
        "    \"Balrothery\": 138, \"Ballybough\": 139,\"Greenhills\": 140, \"Perrystown\": 141, \n",
        "    \"Brittas\": 142, \"Bluebell\": 143, \"Kingswood\": 144, \"The Coombe\": 145, \"Edenmore\": 146, \n",
        "    \"Merrion\": 147, \"Oldbawn\": 148, \"Deansgrange\": 149, \"Bayside\": 150, \"Windy Arbour\": 151, \n",
        "    \"Cherry Orchard\":152,\"Islandbridge\":153,\"South Circular Road\":154,\"Kiltipper\":155,\n",
        "    \"St Margaret's\":156\n",
        "}\n",
        "# apply the transformer on the train dataset and the test dataset\n",
        "dftrain['area'] = dftrain['area'].replace(area_mapper)\n",
        "dftest['area'] = dftest['area'].replace(area_mapper)"
      ],
      "execution_count": 26,
      "outputs": []
    },
    {
      "cell_type": "code",
      "metadata": {
        "colab": {
          "base_uri": "https://localhost:8080/"
        },
        "id": "ocpl1FlThdRC",
        "outputId": "18d2f092-eb89-4c1b-9014-84bdae3f78d3"
      },
      "source": [
        "dftrain['environment'].unique()"
      ],
      "execution_count": 27,
      "outputs": [
        {
          "output_type": "execute_result",
          "data": {
            "text/plain": [
              "array(['prod'], dtype=object)"
            ]
          },
          "metadata": {},
          "execution_count": 27
        }
      ]
    },
    {
      "cell_type": "code",
      "metadata": {
        "id": "-0ixCSXHhEA2"
      },
      "source": [
        "# Create the mapper for the property category\n",
        "environment_mapper = {\n",
        "    \"prod\":0\n",
        "}\n",
        "# apply the transformer on the train dataset and the test dataset\n",
        "dftrain['environment'] = dftrain['environment'].replace(environment_mapper)\n",
        "dftest['environment'] = dftest['environment'].replace(environment_mapper)"
      ],
      "execution_count": 28,
      "outputs": []
    },
    {
      "cell_type": "code",
      "metadata": {
        "colab": {
          "base_uri": "https://localhost:8080/"
        },
        "id": "qAYxwH0ehp6y",
        "outputId": "d667cd55-b96b-4043-a0ee-55131a87e329"
      },
      "source": [
        "dftrain['property_category'].unique()"
      ],
      "execution_count": 29,
      "outputs": [
        {
          "output_type": "execute_result",
          "data": {
            "text/plain": [
              "array(['new_development_parent', 'sale'], dtype=object)"
            ]
          },
          "metadata": {},
          "execution_count": 29
        }
      ]
    },
    {
      "cell_type": "code",
      "metadata": {
        "id": "Q4LdXqO8hubR"
      },
      "source": [
        "# Create the mapper for the environment\n",
        "property_category_mapper = {\n",
        "    \"new_development_parent\":0,\n",
        "    \"sale\":1\n",
        "}\n",
        "# apply the transformer on the train dataset and the test dataset\n",
        "dftrain['property_category'] = dftrain['property_category'].replace(property_category_mapper)\n",
        "dftest['property_category'] = dftest['property_category'].replace(property_category_mapper)"
      ],
      "execution_count": 30,
      "outputs": []
    },
    {
      "cell_type": "code",
      "metadata": {
        "colab": {
          "base_uri": "https://localhost:8080/",
          "height": 204
        },
        "id": "bEDODsIqWTCj",
        "outputId": "8e79fdaa-f2ab-40a1-e719-9aeb3d09ba63"
      },
      "source": [
        "dftrain.tail(5)"
      ],
      "execution_count": 31,
      "outputs": [
        {
          "output_type": "execute_result",
          "data": {
            "text/html": [
              "<div>\n",
              "<style scoped>\n",
              "    .dataframe tbody tr th:only-of-type {\n",
              "        vertical-align: middle;\n",
              "    }\n",
              "\n",
              "    .dataframe tbody tr th {\n",
              "        vertical-align: top;\n",
              "    }\n",
              "\n",
              "    .dataframe thead th {\n",
              "        text-align: right;\n",
              "    }\n",
              "</style>\n",
              "<table border=\"1\" class=\"dataframe\">\n",
              "  <thead>\n",
              "    <tr style=\"text-align: right;\">\n",
              "      <th></th>\n",
              "      <th>area</th>\n",
              "      <th>bathrooms</th>\n",
              "      <th>beds</th>\n",
              "      <th>ber_classification</th>\n",
              "      <th>county</th>\n",
              "      <th>environment</th>\n",
              "      <th>latitude</th>\n",
              "      <th>longitude</th>\n",
              "      <th>no_of_units</th>\n",
              "      <th>price</th>\n",
              "      <th>property_category</th>\n",
              "      <th>property_type</th>\n",
              "      <th>surface</th>\n",
              "    </tr>\n",
              "  </thead>\n",
              "  <tbody>\n",
              "    <tr>\n",
              "      <th>2977</th>\n",
              "      <td>42</td>\n",
              "      <td>2.0</td>\n",
              "      <td>2.0</td>\n",
              "      <td>9.0</td>\n",
              "      <td>1</td>\n",
              "      <td>0</td>\n",
              "      <td>53.338738</td>\n",
              "      <td>-6.237199</td>\n",
              "      <td>NaN</td>\n",
              "      <td>415000.0</td>\n",
              "      <td>1</td>\n",
              "      <td>4.0</td>\n",
              "      <td>56.0</td>\n",
              "    </tr>\n",
              "    <tr>\n",
              "      <th>2978</th>\n",
              "      <td>51</td>\n",
              "      <td>1.0</td>\n",
              "      <td>3.0</td>\n",
              "      <td>5.0</td>\n",
              "      <td>1</td>\n",
              "      <td>0</td>\n",
              "      <td>53.335793</td>\n",
              "      <td>-6.294268</td>\n",
              "      <td>NaN</td>\n",
              "      <td>485000.0</td>\n",
              "      <td>1</td>\n",
              "      <td>5.0</td>\n",
              "      <td>101.0</td>\n",
              "    </tr>\n",
              "    <tr>\n",
              "      <th>2979</th>\n",
              "      <td>123</td>\n",
              "      <td>1.0</td>\n",
              "      <td>2.0</td>\n",
              "      <td>9.0</td>\n",
              "      <td>1</td>\n",
              "      <td>0</td>\n",
              "      <td>53.346098</td>\n",
              "      <td>-6.276856</td>\n",
              "      <td>NaN</td>\n",
              "      <td>299000.0</td>\n",
              "      <td>1</td>\n",
              "      <td>4.0</td>\n",
              "      <td>55.6</td>\n",
              "    </tr>\n",
              "    <tr>\n",
              "      <th>2980</th>\n",
              "      <td>5</td>\n",
              "      <td>2.0</td>\n",
              "      <td>3.0</td>\n",
              "      <td>9.0</td>\n",
              "      <td>1</td>\n",
              "      <td>0</td>\n",
              "      <td>53.273518</td>\n",
              "      <td>-6.178500</td>\n",
              "      <td>NaN</td>\n",
              "      <td>495000.0</td>\n",
              "      <td>1</td>\n",
              "      <td>9.0</td>\n",
              "      <td>97.0</td>\n",
              "    </tr>\n",
              "    <tr>\n",
              "      <th>2981</th>\n",
              "      <td>61</td>\n",
              "      <td>2.0</td>\n",
              "      <td>3.0</td>\n",
              "      <td>11.0</td>\n",
              "      <td>1</td>\n",
              "      <td>0</td>\n",
              "      <td>53.310073</td>\n",
              "      <td>-6.325158</td>\n",
              "      <td>NaN</td>\n",
              "      <td>525000.0</td>\n",
              "      <td>1</td>\n",
              "      <td>3.0</td>\n",
              "      <td>129.3</td>\n",
              "    </tr>\n",
              "  </tbody>\n",
              "</table>\n",
              "</div>"
            ],
            "text/plain": [
              "      area  bathrooms  beds  ...  property_category  property_type  surface\n",
              "2977    42        2.0   2.0  ...                  1            4.0     56.0\n",
              "2978    51        1.0   3.0  ...                  1            5.0    101.0\n",
              "2979   123        1.0   2.0  ...                  1            4.0     55.6\n",
              "2980     5        2.0   3.0  ...                  1            9.0     97.0\n",
              "2981    61        2.0   3.0  ...                  1            3.0    129.3\n",
              "\n",
              "[5 rows x 13 columns]"
            ]
          },
          "metadata": {},
          "execution_count": 31
        }
      ]
    },
    {
      "cell_type": "code",
      "metadata": {
        "colab": {
          "base_uri": "https://localhost:8080/"
        },
        "id": "WhyR2d2yjayL",
        "outputId": "95bea071-5a22-405d-f789-848491a04af4"
      },
      "source": [
        "dftrain.isna().sum()"
      ],
      "execution_count": 32,
      "outputs": [
        {
          "output_type": "execute_result",
          "data": {
            "text/plain": [
              "area                     0\n",
              "bathrooms               51\n",
              "beds                    51\n",
              "ber_classification     677\n",
              "county                   0\n",
              "environment              0\n",
              "latitude                 0\n",
              "longitude                0\n",
              "no_of_units           2923\n",
              "price                   90\n",
              "property_category        0\n",
              "property_type           51\n",
              "surface                551\n",
              "dtype: int64"
            ]
          },
          "metadata": {},
          "execution_count": 32
        }
      ]
    },
    {
      "cell_type": "markdown",
      "metadata": {
        "id": "KO1KBuT6jyQz"
      },
      "source": [
        "The value of the NaN is the same for _bathrooms_ and _beds_ and it is very low, if there is no _price_ there is no data to compare. Let's remove some value NaN value from the dataset"
      ]
    },
    {
      "cell_type": "code",
      "metadata": {
        "id": "5X8f9qI3jv8C"
      },
      "source": [
        "dftrain.dropna(inplace=True,subset=['beds','bathrooms','price'])"
      ],
      "execution_count": 33,
      "outputs": []
    },
    {
      "cell_type": "code",
      "metadata": {
        "colab": {
          "base_uri": "https://localhost:8080/"
        },
        "id": "An9ZT_JIk3B3",
        "outputId": "14e39b1f-a559-4920-bdbb-00098e6e65d9"
      },
      "source": [
        "dftrain.isna().sum()"
      ],
      "execution_count": 34,
      "outputs": [
        {
          "output_type": "execute_result",
          "data": {
            "text/plain": [
              "area                     0\n",
              "bathrooms                0\n",
              "beds                     0\n",
              "ber_classification     608\n",
              "county                   0\n",
              "environment              0\n",
              "latitude                 0\n",
              "longitude                0\n",
              "no_of_units           2885\n",
              "price                    0\n",
              "property_category        0\n",
              "property_type            0\n",
              "surface                490\n",
              "dtype: int64"
            ]
          },
          "metadata": {},
          "execution_count": 34
        }
      ]
    },
    {
      "cell_type": "markdown",
      "metadata": {
        "id": "8ouf_JtUlhmM"
      },
      "source": [
        "The column _no_of_units_ have 2885 value NaN on 2982 value, the column can be drop because doesn't add any value"
      ]
    },
    {
      "cell_type": "code",
      "metadata": {
        "id": "2hw3I_k_leiF"
      },
      "source": [
        "dftrain.drop('no_of_units', axis=1, inplace=True)\n",
        "dftest.drop('no_of_units', axis=1, inplace=True)"
      ],
      "execution_count": 35,
      "outputs": []
    },
    {
      "cell_type": "markdown",
      "metadata": {
        "id": "CXIVWLyum6HQ"
      },
      "source": [
        "There is the remain value from _surface_ and ber_classification, I fill this value with the _median_ value for the field."
      ]
    },
    {
      "cell_type": "code",
      "metadata": {
        "id": "2DL0sgxRm6tJ"
      },
      "source": [
        "# Fill the train dataset\n",
        "dftrain['ber_classification'].fillna(dftrain['ber_classification'].median(), inplace=True)\n",
        "dftrain['surface'].fillna(dftrain['surface'].median(), inplace=True)\n",
        "# Fill the test dataset\n",
        "dftest['ber_classification'].fillna(dftest['ber_classification'].median(), inplace=True)\n",
        "dftest['surface'].fillna(dftest['surface'].median(), inplace=True)"
      ],
      "execution_count": 36,
      "outputs": []
    },
    {
      "cell_type": "code",
      "metadata": {
        "colab": {
          "base_uri": "https://localhost:8080/"
        },
        "id": "btFyyIvonTGi",
        "outputId": "3d105ea1-2539-4482-be2d-8b7b18c0798f"
      },
      "source": [
        "dftrain.isna().sum()"
      ],
      "execution_count": 37,
      "outputs": [
        {
          "output_type": "execute_result",
          "data": {
            "text/plain": [
              "area                  0\n",
              "bathrooms             0\n",
              "beds                  0\n",
              "ber_classification    0\n",
              "county                0\n",
              "environment           0\n",
              "latitude              0\n",
              "longitude             0\n",
              "price                 0\n",
              "property_category     0\n",
              "property_type         0\n",
              "surface               0\n",
              "dtype: int64"
            ]
          },
          "metadata": {},
          "execution_count": 37
        }
      ]
    },
    {
      "cell_type": "markdown",
      "metadata": {
        "id": "vyzG_HBTnY1D"
      },
      "source": [
        "The dataset is not clean, let see if the test dataset is clean as well"
      ]
    },
    {
      "cell_type": "code",
      "metadata": {
        "colab": {
          "base_uri": "https://localhost:8080/"
        },
        "id": "ml8p1-xdn1SB",
        "outputId": "d8c26efb-fb9d-472c-8ab3-b71934409555"
      },
      "source": [
        "dftest.isna().sum()"
      ],
      "execution_count": 38,
      "outputs": [
        {
          "output_type": "execute_result",
          "data": {
            "text/plain": [
              "ad_id                 0\n",
              "area                  0\n",
              "bathrooms             0\n",
              "beds                  0\n",
              "ber_classification    0\n",
              "county                0\n",
              "environment           0\n",
              "latitude              0\n",
              "longitude             0\n",
              "property_category     0\n",
              "property_type         0\n",
              "surface               0\n",
              "dtype: int64"
            ]
          },
          "metadata": {},
          "execution_count": 38
        }
      ]
    },
    {
      "cell_type": "markdown",
      "metadata": {
        "id": "BmxSg3SjoZLq"
      },
      "source": [
        "The test dataset is clean as well, we are now ready to proced with the Linear Regression"
      ]
    },
    {
      "cell_type": "code",
      "metadata": {
        "colab": {
          "base_uri": "https://localhost:8080/",
          "height": 623
        },
        "id": "j4ArmH1oo4k9",
        "outputId": "4e88814a-6dba-4195-f747-3e8d44ef2c73"
      },
      "source": [
        "# define the heat-map correlation\n",
        "fig, ax = plt.subplots(figsize=(11, 9))\n",
        "\n",
        "sns.heatmap(dftrain.corr(), annot=True)\n",
        "\n",
        "plt.show()"
      ],
      "execution_count": 39,
      "outputs": [
        {
          "output_type": "display_data",
          "data": {
            "image/png": "[encoded data removed]",
            "text/plain": [
              "<Figure size 792x648 with 2 Axes>"
            ]
          },
          "metadata": {
            "needs_background": "light"
          }
        }
      ]
    },
    {
      "cell_type": "markdown",
      "metadata": {
        "id": "ycFf7F0Aqrqn"
      },
      "source": [
        "The correlation map, show the field more correlated with the _price_, the feature are:\n",
        "\n",
        "\n",
        "*   bathrooms\n",
        "*   beds\n",
        "\n",
        "We use this features for define our Linear Regression\n",
        "\n"
      ]
    },
    {
      "cell_type": "code",
      "metadata": {
        "id": "loLTHklwKGnV"
      },
      "source": [
        "# split data into training and test\n",
        "from sklearn.model_selection import train_test_split\n",
        "\n",
        "# training: 70% (0.7), test: 30% (0.3) \n",
        "# you could try any other combination \n",
        "# but consider 50% of training as the low boundary\n",
        "# X_train,X_test,y_train,y_test = train_test_split(X, y, test_size=0.3)"
      ],
      "execution_count": 40,
      "outputs": []
    },
    {
      "cell_type": "markdown",
      "metadata": {
        "id": "UjMH1CSEUA1A"
      },
      "source": [
        "### Expected Cost dataset"
      ]
    },
    {
      "cell_type": "code",
      "metadata": {
        "colab": {
          "base_uri": "https://localhost:8080/",
          "height": 204
        },
        "id": "PpONcwrhBk8C",
        "outputId": "7f1f97fd-fef9-4c5d-a07e-c0bdd82f9da4"
      },
      "source": [
        "dfcost.head()"
      ],
      "execution_count": 41,
      "outputs": [
        {
          "output_type": "execute_result",
          "data": {
            "text/html": [
              "<div>\n",
              "<style scoped>\n",
              "    .dataframe tbody tr th:only-of-type {\n",
              "        vertical-align: middle;\n",
              "    }\n",
              "\n",
              "    .dataframe tbody tr th {\n",
              "        vertical-align: top;\n",
              "    }\n",
              "\n",
              "    .dataframe thead th {\n",
              "        text-align: right;\n",
              "    }\n",
              "</style>\n",
              "<table border=\"1\" class=\"dataframe\">\n",
              "  <thead>\n",
              "    <tr style=\"text-align: right;\">\n",
              "      <th></th>\n",
              "      <th>Id</th>\n",
              "      <th>Expected</th>\n",
              "    </tr>\n",
              "  </thead>\n",
              "  <tbody>\n",
              "    <tr>\n",
              "      <th>0</th>\n",
              "      <td>12373510</td>\n",
              "      <td>875000.0</td>\n",
              "    </tr>\n",
              "    <tr>\n",
              "      <th>1</th>\n",
              "      <td>12422623</td>\n",
              "      <td>355000.0</td>\n",
              "    </tr>\n",
              "    <tr>\n",
              "      <th>2</th>\n",
              "      <td>12377408</td>\n",
              "      <td>440000.0</td>\n",
              "    </tr>\n",
              "    <tr>\n",
              "      <th>3</th>\n",
              "      <td>12420093</td>\n",
              "      <td>425000.0</td>\n",
              "    </tr>\n",
              "    <tr>\n",
              "      <th>4</th>\n",
              "      <td>12417338</td>\n",
              "      <td>265000.0</td>\n",
              "    </tr>\n",
              "  </tbody>\n",
              "</table>\n",
              "</div>"
            ],
            "text/plain": [
              "         Id  Expected\n",
              "0  12373510  875000.0\n",
              "1  12422623  355000.0\n",
              "2  12377408  440000.0\n",
              "3  12420093  425000.0\n",
              "4  12417338  265000.0"
            ]
          },
          "metadata": {},
          "execution_count": 41
        }
      ]
    },
    {
      "cell_type": "code",
      "metadata": {
        "colab": {
          "base_uri": "https://localhost:8080/"
        },
        "id": "1o8xZn0vZI9B",
        "outputId": "2813bbf0-74de-4e03-dc7c-1a974590af99"
      },
      "source": [
        "dfcost.isna().sum()"
      ],
      "execution_count": 42,
      "outputs": [
        {
          "output_type": "execute_result",
          "data": {
            "text/plain": [
              "Id          0\n",
              "Expected    0\n",
              "dtype: int64"
            ]
          },
          "metadata": {},
          "execution_count": 42
        }
      ]
    },
    {
      "cell_type": "code",
      "metadata": {
        "id": "7p63sCZeUNx3",
        "colab": {
          "base_uri": "https://localhost:8080/",
          "height": 297
        },
        "outputId": "477d6932-15eb-4007-f48d-1c8d43f81619"
      },
      "source": [
        "# Generate descriptive statistics\n",
        "dfcost.describe()"
      ],
      "execution_count": 43,
      "outputs": [
        {
          "output_type": "execute_result",
          "data": {
            "text/html": [
              "<div>\n",
              "<style scoped>\n",
              "    .dataframe tbody tr th:only-of-type {\n",
              "        vertical-align: middle;\n",
              "    }\n",
              "\n",
              "    .dataframe tbody tr th {\n",
              "        vertical-align: top;\n",
              "    }\n",
              "\n",
              "    .dataframe thead th {\n",
              "        text-align: right;\n",
              "    }\n",
              "</style>\n",
              "<table border=\"1\" class=\"dataframe\">\n",
              "  <thead>\n",
              "    <tr style=\"text-align: right;\">\n",
              "      <th></th>\n",
              "      <th>Id</th>\n",
              "      <th>Expected</th>\n",
              "    </tr>\n",
              "  </thead>\n",
              "  <tbody>\n",
              "    <tr>\n",
              "      <th>count</th>\n",
              "      <td>5.000000e+02</td>\n",
              "      <td>5.000000e+02</td>\n",
              "    </tr>\n",
              "    <tr>\n",
              "      <th>mean</th>\n",
              "      <td>1.231695e+07</td>\n",
              "      <td>5.810356e+05</td>\n",
              "    </tr>\n",
              "    <tr>\n",
              "      <th>std</th>\n",
              "      <td>1.485832e+05</td>\n",
              "      <td>6.009194e+05</td>\n",
              "    </tr>\n",
              "    <tr>\n",
              "      <th>min</th>\n",
              "      <td>1.130615e+07</td>\n",
              "      <td>8.500000e+04</td>\n",
              "    </tr>\n",
              "    <tr>\n",
              "      <th>25%</th>\n",
              "      <td>1.228617e+07</td>\n",
              "      <td>2.950000e+05</td>\n",
              "    </tr>\n",
              "    <tr>\n",
              "      <th>50%</th>\n",
              "      <td>1.237964e+07</td>\n",
              "      <td>4.250000e+05</td>\n",
              "    </tr>\n",
              "    <tr>\n",
              "      <th>75%</th>\n",
              "      <td>1.240544e+07</td>\n",
              "      <td>5.950000e+05</td>\n",
              "    </tr>\n",
              "    <tr>\n",
              "      <th>max</th>\n",
              "      <td>1.242809e+07</td>\n",
              "      <td>5.750000e+06</td>\n",
              "    </tr>\n",
              "  </tbody>\n",
              "</table>\n",
              "</div>"
            ],
            "text/plain": [
              "                 Id      Expected\n",
              "count  5.000000e+02  5.000000e+02\n",
              "mean   1.231695e+07  5.810356e+05\n",
              "std    1.485832e+05  6.009194e+05\n",
              "min    1.130615e+07  8.500000e+04\n",
              "25%    1.228617e+07  2.950000e+05\n",
              "50%    1.237964e+07  4.250000e+05\n",
              "75%    1.240544e+07  5.950000e+05\n",
              "max    1.242809e+07  5.750000e+06"
            ]
          },
          "metadata": {},
          "execution_count": 43
        }
      ]
    },
    {
      "cell_type": "markdown",
      "metadata": {
        "id": "bJFJQxAS9HZK"
      },
      "source": [
        "# PIECEWISE REGRESSION"
      ]
    },
    {
      "cell_type": "markdown",
      "metadata": {
        "id": "uQ_1QsLToIDi"
      },
      "source": [
        "## Full Model"
      ]
    },
    {
      "cell_type": "code",
      "metadata": {
        "id": "Yv5j1KzzMUnm"
      },
      "source": [
        "# select some features columns just for the baseline model\n",
        "# assume not all of the features are informative or useful\n",
        "# in this exercise you could try all of them if possible\n",
        "\n",
        "featrain = ['beds','bathrooms','price']\n",
        "# dropna: remove missing values\n",
        "df_subset_train = dftrain[featrain].dropna(axis=0)\n",
        "\n",
        "featest = ['beds','bathrooms']\n",
        "df_subset_test  =  dftest[featest].dropna(axis=0)\n",
        "\n",
        "# cost\n",
        "dfcost = dfcost[dfcost.index.isin(df_subset_test.index)]"
      ],
      "execution_count": 44,
      "outputs": []
    },
    {
      "cell_type": "code",
      "metadata": {
        "id": "PZK2kfygoIDi",
        "colab": {
          "base_uri": "https://localhost:8080/",
          "height": 232
        },
        "outputId": "48e1a3d5-8a55-49fb-d3d6-589e55d4cf58"
      },
      "source": [
        "# model\n",
        "with pm.Model() as model:\n",
        "    #prior over the parameters of linear regression\n",
        "    alpha = pm.Normal('alpha', mu=0, sigma=30)\n",
        "    #we have one beta for each column of Xn\n",
        "    beta = pm.Normal('beta', mu=0, sigma=30, shape=Xn_train.shape[1])\n",
        "    #prior over the variance of the noise\n",
        "    sigma = pm.HalfCauchy('sigma_n', 5)\n",
        "    #linear regression model in matrix form\n",
        "    mu = alpha + pm.math.dot(beta, Xn_train.T)\n",
        "    #likelihood, be sure that observed is a 1d vector\n",
        "    like = pm.Normal('like', mu=mu, sigma=sigma, observed=yn_train[:,0])\n",
        "    "
      ],
      "execution_count": 45,
      "outputs": [
        {
          "output_type": "error",
          "ename": "NameError",
          "evalue": "ignored",
          "traceback": [
            "\u001b[0;31m---------------------------------------------------------------------------\u001b[0m",
            "\u001b[0;31mNameError\u001b[0m                                 Traceback (most recent call last)",
            "\u001b[0;32m<ipython-input-45-76cb9cede2bb>\u001b[0m in \u001b[0;36m<module>\u001b[0;34m()\u001b[0m\n\u001b[1;32m      4\u001b[0m     \u001b[0malpha\u001b[0m \u001b[0;34m=\u001b[0m \u001b[0mpm\u001b[0m\u001b[0;34m.\u001b[0m\u001b[0mNormal\u001b[0m\u001b[0;34m(\u001b[0m\u001b[0;34m'alpha'\u001b[0m\u001b[0;34m,\u001b[0m \u001b[0mmu\u001b[0m\u001b[0;34m=\u001b[0m\u001b[0;36m0\u001b[0m\u001b[0;34m,\u001b[0m \u001b[0msigma\u001b[0m\u001b[0;34m=\u001b[0m\u001b[0;36m30\u001b[0m\u001b[0;34m)\u001b[0m\u001b[0;34m\u001b[0m\u001b[0;34m\u001b[0m\u001b[0m\n\u001b[1;32m      5\u001b[0m     \u001b[0;31m#we have one beta for each column of Xn\u001b[0m\u001b[0;34m\u001b[0m\u001b[0;34m\u001b[0m\u001b[0;34m\u001b[0m\u001b[0m\n\u001b[0;32m----> 6\u001b[0;31m     \u001b[0mbeta\u001b[0m \u001b[0;34m=\u001b[0m \u001b[0mpm\u001b[0m\u001b[0;34m.\u001b[0m\u001b[0mNormal\u001b[0m\u001b[0;34m(\u001b[0m\u001b[0;34m'beta'\u001b[0m\u001b[0;34m,\u001b[0m \u001b[0mmu\u001b[0m\u001b[0;34m=\u001b[0m\u001b[0;36m0\u001b[0m\u001b[0;34m,\u001b[0m \u001b[0msigma\u001b[0m\u001b[0;34m=\u001b[0m\u001b[0;36m30\u001b[0m\u001b[0;34m,\u001b[0m \u001b[0mshape\u001b[0m\u001b[0;34m=\u001b[0m\u001b[0mXn_train\u001b[0m\u001b[0;34m.\u001b[0m\u001b[0mshape\u001b[0m\u001b[0;34m[\u001b[0m\u001b[0;36m1\u001b[0m\u001b[0;34m]\u001b[0m\u001b[0;34m)\u001b[0m\u001b[0;34m\u001b[0m\u001b[0;34m\u001b[0m\u001b[0m\n\u001b[0m\u001b[1;32m      7\u001b[0m     \u001b[0;31m#prior over the variance of the noise\u001b[0m\u001b[0;34m\u001b[0m\u001b[0;34m\u001b[0m\u001b[0;34m\u001b[0m\u001b[0m\n\u001b[1;32m      8\u001b[0m     \u001b[0msigma\u001b[0m \u001b[0;34m=\u001b[0m \u001b[0mpm\u001b[0m\u001b[0;34m.\u001b[0m\u001b[0mHalfCauchy\u001b[0m\u001b[0;34m(\u001b[0m\u001b[0;34m'sigma_n'\u001b[0m\u001b[0;34m,\u001b[0m \u001b[0;36m5\u001b[0m\u001b[0;34m)\u001b[0m\u001b[0;34m\u001b[0m\u001b[0;34m\u001b[0m\u001b[0m\n",
            "\u001b[0;31mNameError\u001b[0m: name 'Xn_train' is not defined"
          ]
        }
      ]
    },
    {
      "cell_type": "code",
      "metadata": {
        "id": "cIskuS3ToIDk"
      },
      "source": [
        "# prediction\n",
        "ll=np.mean(posterior['alpha']) + np.dot(np.mean(posterior['beta'],axis=0), Xn_test.T)\n",
        "y_pred_BLR = np.exp(yscaler.inverse_transform(ll.reshape(-1,1)))[:,0]\n",
        "print(\"MAE = \",(np.mean(abs(y_pred_BLR - y_test))))\n",
        "print(\"MAPE = \",(np.mean(abs(y_pred_BLR - y_test) / y_test)))"
      ],
      "execution_count": null,
      "outputs": []
    },
    {
      "cell_type": "markdown",
      "metadata": {
        "id": "q_jBBKvtoIDk"
      },
      "source": [
        "## Clustering"
      ]
    },
    {
      "cell_type": "markdown",
      "metadata": {
        "id": "VYFvbgYDaEOS"
      },
      "source": [
        "### Full Model"
      ]
    },
    {
      "cell_type": "code",
      "metadata": {
        "id": "iphQ53UE0iVw"
      },
      "source": [
        "# training gaussian mixture model \n",
        "from sklearn.mixture import GaussianMixture\n",
        "\n",
        "gmm = GaussianMixture(n_components=4)\n"
      ],
      "execution_count": null,
      "outputs": []
    },
    {
      "cell_type": "markdown",
      "metadata": {
        "id": "h51OhBV5Z4tY"
      },
      "source": [
        "### Clusters"
      ]
    },
    {
      "cell_type": "code",
      "metadata": {
        "id": "vNvx_KxrLt90"
      },
      "source": [
        "# train clusters\n",
        "\n"
      ],
      "execution_count": null,
      "outputs": []
    },
    {
      "cell_type": "code",
      "metadata": {
        "id": "-wTT4220zFNx"
      },
      "source": [
        "# test clusters\n"
      ],
      "execution_count": null,
      "outputs": []
    },
    {
      "cell_type": "markdown",
      "metadata": {
        "id": "dXF25ZDYoIDl"
      },
      "source": [
        "## Piecewise Model"
      ]
    },
    {
      "cell_type": "code",
      "metadata": {
        "id": "N1e-4ruvaJci"
      },
      "source": [
        "# model_0\n",
        "with pm.Model() as model_0:\n",
        "  # prior over the parameters of linear regression\n",
        "  alpha = pm.Normal('alpha', mu=0, sigma=30)\n",
        "  # we have a beta for each column of Xn0\n",
        "  beta = pm.Normal('beta', mu=0, sigma=30, shape=Xn0.shape[1])\n",
        "  # prior over the variance of the noise\n",
        "  sigma = pm.HalfCauchy('sigma_n', 5)\n",
        "  # linear regression relationship\n",
        "  #linear regression model in matrix form\n",
        "  mu = alpha + pm.math.dot(beta, Xn0.T)\n",
        "  # likelihood, be sure that observed is a 1d vector\n",
        "  like = pm.Normal('like', mu=mu, sigma=sigma, observed=yn0[:,0])\n",
        "\n"
      ],
      "execution_count": null,
      "outputs": []
    },
    {
      "cell_type": "markdown",
      "metadata": {
        "id": "wHBgUe1pcZQQ"
      },
      "source": [
        "##Simulations"
      ]
    },
    {
      "cell_type": "markdown",
      "metadata": {
        "id": "bfSEdYAUoIDn"
      },
      "source": [
        "### Only Cluster 0"
      ]
    },
    {
      "cell_type": "markdown",
      "metadata": {
        "id": "qgMUwBO7oIDq"
      },
      "source": [
        "## Overall"
      ]
    },
    {
      "cell_type": "markdown",
      "metadata": {
        "id": "QMY9rDvVoIDq"
      },
      "source": [
        "## Test set performance"
      ]
    },
    {
      "cell_type": "markdown",
      "metadata": {
        "id": "YGmB9BNkoIDr"
      },
      "source": [
        "### PPC on the Test set\n",
        "\n"
      ]
    },
    {
      "cell_type": "markdown",
      "metadata": {
        "id": "f0GYCpwEM09T"
      },
      "source": [
        "# SUMMARY"
      ]
    }
  ]
}