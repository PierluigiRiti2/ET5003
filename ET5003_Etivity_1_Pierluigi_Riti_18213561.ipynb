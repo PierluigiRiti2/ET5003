{
  "nbformat": 4,
  "nbformat_minor": 0,
  "metadata": {
    "colab": {
      "name": "ET5003_Etivity_1_Pierluigi_Riti_18213561.ipynb",
      "provenance": []
    },
    "kernelspec": {
      "name": "python3",
      "display_name": "Python 3"
    },
    "language_info": {
      "name": "python"
    },
    "accelerator": "GPU"
  },
  "cells": [
    {
      "cell_type": "markdown",
      "metadata": {
        "id": "jxK1_8f1dvrc"
      },
      "source": [
        "<div>\n",
        "<img src=\"https://drive.google.com/uc?export=view&id=1vK33e_EqaHgBHcbRV_m38hx6IkG0blK_\" width=\"350\"/>\n",
        "</div> \n",
        "\n",
        "#**Artificial Intelligence - MSc**\n",
        "ET5003 - MACHINE LEARNING APPLICATIONS \n",
        "\n",
        "###Instructor: Enrique Naredo\n",
        "###ET5003_Etivity-1"
      ]
    },
    {
      "cell_type": "code",
      "metadata": {
        "id": "LqXD_IwUQuBF",
        "cellView": "form"
      },
      "source": [
        "#@title Current Date\n",
        "Today = '2021-09-08' #@param {type:\"date\"}\n"
      ],
      "execution_count": 1,
      "outputs": []
    },
    {
      "cell_type": "code",
      "metadata": {
        "id": "uzDKau31OjVO",
        "cellView": "form"
      },
      "source": [
        "#@markdown ---\n",
        "#@markdown ### Enter your details here:\n",
        "Student_ID = \"18213561\" #@param {type:\"string\"}\n",
        "Student_full_name = \"Pierluigi Riti\" #@param {type:\"string\"}\n",
        "#@markdown ---"
      ],
      "execution_count": 2,
      "outputs": []
    },
    {
      "cell_type": "code",
      "metadata": {
        "id": "r39xGZckTpKx",
        "cellView": "form"
      },
      "source": [
        "#@title Notebook information\n",
        "Notebook_type = 'Etivity' #@param [\"Example\", \"Lab\", \"Practice\", \"Etivity\", \"Assignment\", \"Exam\"]\n",
        "Version = 'Draft' #@param [\"Draft\", \"Final\"] {type:\"raw\"}\n",
        "Submission = False #@param {type:\"boolean\"}"
      ],
      "execution_count": 3,
      "outputs": []
    },
    {
      "cell_type": "markdown",
      "metadata": {
        "id": "80m304lUefG4"
      },
      "source": [
        "## MNIST dataset"
      ]
    },
    {
      "cell_type": "markdown",
      "metadata": {
        "id": "Bs8mHGcidHSa"
      },
      "source": [
        "\n",
        "\n",
        "The MNIST database  is a dataset of handwritten digits that has been and is extensively used in machine learning. There are $10$ classes, each image is $28\\times28$ pixels and, therefore, each input is $x_i\\in\\mathbb{R}^{784}$. "
      ]
    },
    {
      "cell_type": "markdown",
      "metadata": {
        "id": "ailycCq5epj2"
      },
      "source": [
        "## Task"
      ]
    },
    {
      "cell_type": "markdown",
      "metadata": {
        "id": "a-yNAxhUemjM"
      },
      "source": [
        "You have to extend the code to manage any arbitrary number of classes, in other words you have to implement a general-recipe multinomial logistic classifier and Bayesian multinomial logistic classifier.\n",
        "\n",
        "You must then select  3 digits at random and perform  the following task. \n",
        "\n",
        "1. Your goal is to use Bayesian multinomial logistic regression (as in the road-sign notebook) to solve this classification problem. \n",
        "\n",
        "2. You can downsize the training dataset (e.g., 40% training and 60%testing) if the computation of the posterior takes too much time in your computer.\n",
        "\n",
        "3. Use the posterior uncertainty to detect the instances (digits) in the test set that are hard to classify and remove them from the test-set.\n",
        "\n",
        "4. Then you need to compute again the accuracy of the general-recipe logistic regression on the remaining (non-difficult) instances and comment on the result.\n",
        "\n",
        "5. In practice, the task is to use uncertainty estimation to detect the difficult instances in the test-set. This is equivalent to refuse to classify all high-uncertainty instances or, in other words, when we are uncertain we say \"I don't know\" and we do not return any class. In this way, you will learn how uncertainty can be used to make safer decisions, by detecting the instances that are difficult to classify.\n"
      ]
    },
    {
      "cell_type": "markdown",
      "metadata": {
        "id": "nMRKRTQZe5fW"
      },
      "source": [
        "## Libraries"
      ]
    },
    {
      "cell_type": "code",
      "metadata": {
        "id": "IxusAui7AX_f"
      },
      "source": [
        "# Suppressing Warnings:\n",
        "import warnings\n",
        "warnings.filterwarnings(\"ignore\")"
      ],
      "execution_count": 4,
      "outputs": []
    },
    {
      "cell_type": "code",
      "metadata": {
        "id": "MQOfGMQpdHSb"
      },
      "source": [
        "# Import libraries\n",
        "from sklearn.linear_model import LogisticRegression\n",
        "from sklearn.metrics import accuracy_score\n",
        "from sklearn.metrics import classification_report\n",
        "from sklearn.model_selection import train_test_split\n",
        "import scipy.optimize as optimize\n",
        "from scipy.special import erf\n",
        "import pandas as pd\n",
        "import numpy as np\n",
        "import seaborn as sns\n",
        "from tqdm import tqdm\n",
        "from skimage.io import imread, imshow\n",
        "import matplotlib.image as mpimg\n",
        "import matplotlib.pyplot as plt\n",
        "import matplotlib\n",
        "%matplotlib inline\n",
        "import arviz as az\n",
        "from scipy.io import loadmat\n",
        "import pymc3 as pm\n",
        "import random\n",
        "from IPython.display import HTML\n",
        "import pickle\n",
        "import theano as tt\n",
        "import cv2\n",
        "from sklearn.utils import shuffle\n",
        "from skimage.color import rgb2gray"
      ],
      "execution_count": 5,
      "outputs": []
    },
    {
      "cell_type": "code",
      "metadata": {
        "id": "P5-qMSjpAQ-9"
      },
      "source": [
        "# Setting a seed:\n",
        "np.random.seed(123)"
      ],
      "execution_count": 6,
      "outputs": []
    },
    {
      "cell_type": "markdown",
      "metadata": {
        "id": "r4hSuwkUfVQb"
      },
      "source": [
        "## Dataset\n",
        "\n",
        "The MINST dataset is downloaded from Kaggle, https://www.kaggle.com/oddrationale/mnist-in-csv.<br> \n",
        "The dataset consist on two file .CSV, the _minst_train.csv_, this contain 10.000 example, and the _minst_test.csv_ this file cointains 60.000 example.<br>\n",
        "Both the file are uploaded in my Google Drive and in this way I can access on the file via Google Colab."
      ]
    },
    {
      "cell_type": "markdown",
      "metadata": {
        "id": "w99Pc66YdHSd"
      },
      "source": [
        "### Loading the MNIST dataset"
      ]
    },
    {
      "cell_type": "code",
      "metadata": {
        "colab": {
          "base_uri": "https://localhost:8080/"
        },
        "id": "CYFWAbXVzynp",
        "outputId": "dd876679-06b2-476c-9674-f106774490ec"
      },
      "source": [
        "from google.colab import drive\n",
        "drive.mount('/content/drive')"
      ],
      "execution_count": 7,
      "outputs": [
        {
          "output_type": "stream",
          "name": "stdout",
          "text": [
            "Mounted at /content/drive\n"
          ]
        }
      ]
    },
    {
      "cell_type": "code",
      "metadata": {
        "colab": {
          "base_uri": "https://localhost:8080/"
        },
        "id": "g4rCnS4vdHSd",
        "outputId": "abdef4a9-fa24-4af9-d81b-98dc22bbce6e"
      },
      "source": [
        "# Path, copy the path from your Drive\n",
        "Path = '/content/drive/MyDrive/Colab Notebooks/'\n",
        "\n",
        "# MNIST Data\n",
        "train_data = Path + 'mnist_train.csv'\n",
        "test_data = Path + 'mnist_test.csv'\n",
        "\n",
        "# train data\n",
        "df_train = pd.read_csv(train_data)\n",
        "X_train = df_train.drop(\"label\",axis=1).values\n",
        "y_train = df_train.label.values\n",
        "print(X_train.shape)\n",
        "\n",
        "# test data\n",
        "df_test = pd.read_csv(test_data)\n",
        "X_test = df_test.drop(\"label\",axis=1).values\n",
        "y_test = df_test.label.values\n",
        "print(X_test.shape)"
      ],
      "execution_count": 8,
      "outputs": [
        {
          "output_type": "stream",
          "name": "stdout",
          "text": [
            "(60000, 784)\n",
            "(10000, 784)\n"
          ]
        }
      ]
    },
    {
      "cell_type": "markdown",
      "metadata": {
        "id": "4xjkPWCk9HmG"
      },
      "source": [
        "The MINST dataset is essentially a set of image, this means the value can be from 0 to 255, most of the Machine Learning algorithm works with value 0 to 1, the next step is to convert the range from 0 to 255 to 0 to 1"
      ]
    },
    {
      "cell_type": "code",
      "metadata": {
        "colab": {
          "base_uri": "https://localhost:8080/"
        },
        "id": "O2ubJ_WoAqBh",
        "outputId": "f1a9f60f-c275-4614-877b-569114d64ffe"
      },
      "source": [
        "# Normalizing the Inputs:\n",
        "X_train = X_train/255\n",
        "X_test = X_test/255\n",
        "\n",
        "# Printing the new input range of values:\n",
        "minv = np.min(X_train)\n",
        "maxv = np.max(X_train)\n",
        "print(minv,maxv)\n",
        "print(len(X_train))"
      ],
      "execution_count": 9,
      "outputs": [
        {
          "output_type": "stream",
          "name": "stdout",
          "text": [
            "0.0 1.0\n",
            "60000\n"
          ]
        }
      ]
    },
    {
      "cell_type": "markdown",
      "metadata": {
        "id": "e636WoglOZ_6"
      },
      "source": [
        "# **Preprocessing Data Function**"
      ]
    },
    {
      "cell_type": "markdown",
      "metadata": {
        "id": "SR6HpkWndHSe"
      },
      "source": [
        "### Description of Data:\n",
        "\n",
        "For better work with the data, let's describe the data, we want to see the shape of the dataset, and the number of **_classes_** and **_features_**"
      ]
    },
    {
      "cell_type": "code",
      "metadata": {
        "colab": {
          "base_uri": "https://localhost:8080/"
        },
        "id": "sibN1Vv1dHSf",
        "outputId": "8b537c1d-3f8a-47df-ad83-7eea1d5fff51"
      },
      "source": [
        "# Number of examples\n",
        "n_train =  len(X_train)\n",
        "n_test =  len(X_test)\n",
        "\n",
        "# Shape of an traffic sign image\n",
        "image_shape = X_train.shape[1]\n",
        "\n",
        "# unique classes/labels in the training dataset.\n",
        "alltotal = set(y_train)\n",
        "n_classes = len(alltotal)\n",
        "\n",
        "print(\"Number of Training examples =\", n_train)\n",
        "print(\"Number of Test examples =\", n_test)\n",
        "print(\"Image input shape =\", image_shape)\n",
        "print(\"Number of classes =\", n_classes)"
      ],
      "execution_count": 11,
      "outputs": [
        {
          "output_type": "stream",
          "name": "stdout",
          "text": [
            "Number of Training examples = 60000\n",
            "Number of Test examples = 10000\n",
            "Image input shape = 784\n",
            "Number of classes = 10\n"
          ]
        }
      ]
    },
    {
      "cell_type": "markdown",
      "metadata": {
        "id": "6HQDSvrRKZF6"
      },
      "source": [
        "### Class Distribution:\n",
        "\n",
        "The first step for calculate a probability is understand what is the distribution of the data, for do that, let's print the distribution of the class"
      ]
    },
    {
      "cell_type": "code",
      "metadata": {
        "id": "XG8GdlpBKdCt",
        "colab": {
          "base_uri": "https://localhost:8080/",
          "height": 627
        },
        "outputId": "9e0364ed-fae0-49ae-c469-0914e791e6f2"
      },
      "source": [
        "fig, ax = plt.subplots(figsize=(12,10))\n",
        "ind = np.arange(n_classes)\n",
        "\n",
        "n, bins, patches = ax.hist(y_train, n_classes, ec='black')\n",
        "ax.set_xlabel('Digits 0-9 (Classes)', fontsize = 14)\n",
        "ax.set_ylabel('counts', fontsize = 14)\n",
        "ax.set_title(r'Histogram of Digit images', fontsize = 14)\n",
        "plt.show()"
      ],
      "execution_count": 12,
      "outputs": [
        {
          "output_type": "display_data",
          "data": {
            "image/png": "[encoded data removed]",
            "text/plain": [
              "<Figure size 864x720 with 1 Axes>"
            ]
          },
          "metadata": {
            "needs_background": "light"
          }
        }
      ]
    },
    {
      "cell_type": "markdown",
      "metadata": {
        "id": "k71aJwgG8Ubu"
      },
      "source": [
        "How we can see, the diagram show some difference about the distribution of the digits, the _5_ is the digit with less occurence, on the other side the _1_ is the digit with most occurence.  "
      ]
    },
    {
      "cell_type": "markdown",
      "metadata": {
        "id": "EyLWw3nsLCtk"
      },
      "source": [
        "## Downsampling\n",
        "\n",
        "The diagram show cleary an imbalanced dataset, this because the class 1 and 5 have some significant difference.<br>\n",
        "In this case we use a technique called **_Drownsampling_** the normal drowsampling is done select some example from the class with the majority from where we select a lower subset of data, in our case, we select a subset from 3 random classes of our dataset, this because essentially all the classes have difference against each other.\n"
      ]
    },
    {
      "cell_type": "markdown",
      "metadata": {
        "id": "2U1lFEwhLKBf"
      },
      "source": [
        "### Randomly selecting 3 of the 10 Digit Classes"
      ]
    },
    {
      "cell_type": "code",
      "metadata": {
        "id": "0EeRZZWdLRPT",
        "colab": {
          "base_uri": "https://localhost:8080/"
        },
        "outputId": "769b46d9-7b0b-42f1-e3e4-ffbe80b9ffe6"
      },
      "source": [
        "# We select the number of Classes we want:\n",
        "n_classes = 3\n",
        "\n",
        "# Empty list to append the random digit classes we select:\n",
        "classes = []\n",
        "\n",
        "# We select 3 digits at random and make sure they are unique:\n",
        "# the alltotal is the total number of the class in the dataset\n",
        "while len(classes) < n_classes:\n",
        "    \n",
        "    # Randomly drawing a digit from 0-9:\n",
        "    num2choose = np.random.randint(0,10)\n",
        "\n",
        "    # Append the digit if it's not already in our list of classes:\n",
        "    if num2choose not in classes: \n",
        "        classes.append(num2choose)\n",
        "        \n",
        "        \n",
        "# Sorting the Classes smallest to largest    \n",
        "classes.sort()\n",
        "# print classes selected\n",
        "classes"
      ],
      "execution_count": 13,
      "outputs": [
        {
          "output_type": "execute_result",
          "data": {
            "text/plain": [
              "[1, 2, 6]"
            ]
          },
          "metadata": {},
          "execution_count": 13
        }
      ]
    },
    {
      "cell_type": "code",
      "metadata": {
        "id": "2M8R5NqKMB_M",
        "colab": {
          "base_uri": "https://localhost:8080/"
        },
        "outputId": "b6103e11-6c7f-49da-a78c-95f3d14a4903"
      },
      "source": [
        "# The number of instances we'll keep for each of our 3 digits:\n",
        "inst_class = 5000\n",
        "\n",
        "inputs = []\n",
        "labels = []\n",
        "\n",
        "# Loop to randomly sample the instances for each digit:\n",
        "for r in classes:\n",
        "    imgs = X_train[np.where(y_train==r)[0],:]\n",
        "    inputs.append(imgs[np.random.permutation(imgs.shape[0]),:][0:inst_class,:])\n",
        "    labels.append(np.ones(inst_class)*r)\n",
        "    \n",
        "# Shaping inputs and labels in the right format    \n",
        "X_train = np.vstack(inputs).astype(np.float64)\n",
        "y_train = np.hstack(labels)\n",
        "\n",
        "print(X_train.shape)\n",
        "print(y_train.shape)"
      ],
      "execution_count": 14,
      "outputs": [
        {
          "output_type": "stream",
          "name": "stdout",
          "text": [
            "(15000, 784)\n",
            "(15000,)\n"
          ]
        }
      ]
    },
    {
      "cell_type": "markdown",
      "metadata": {
        "id": "_6-YHrQQMicy"
      },
      "source": [
        "New Classes Distribution"
      ]
    },
    {
      "cell_type": "code",
      "metadata": {
        "colab": {
          "base_uri": "https://localhost:8080/",
          "height": 307
        },
        "id": "10QrcpzZ5VGL",
        "outputId": "67d82be2-5ef3-44f9-8d37-91f003b12a9c"
      },
      "source": [
        "fig, ax = plt.subplots()\n",
        "\n",
        "ind = np.arange(n_classes)\n",
        "\n",
        "n, bins, patches = ax.hist(y_train, n_classes, ec='black', align='mid')\n",
        "ax.set_xlabel('Digits(Classes)', fontsize = 18)\n",
        "ax.set_ylabel('counts', fontsize = 18)\n",
        "ax.set_title(r'Histogram of Digit images', fontsize = 18)\n",
        "plt.show()"
      ],
      "execution_count": 15,
      "outputs": [
        {
          "output_type": "display_data",
          "data": {
            "image/png": "[encoded data removed]",
            "text/plain": [
              "<Figure size 432x288 with 1 Axes>"
            ]
          },
          "metadata": {
            "needs_background": "light"
          }
        }
      ]
    },
    {
      "cell_type": "code",
      "metadata": {
        "id": "eFgP4xugMvJm"
      },
      "source": [
        "# plot digits\n",
        "def plot_digits(instances, images_per_row=5, **options):\n",
        "    size = 28\n",
        "    images_per_row = min(len(instances), images_per_row)\n",
        "    images = [instance.reshape(size,size) for instance in instances]\n",
        "    n_rows = (len(instances) - 1) // images_per_row + 1\n",
        "    row_images = []\n",
        "    n_empty = n_rows * images_per_row - len(instances)\n",
        "    images.append(np.zeros((size, size * n_empty)))\n",
        "    for row in range(n_rows):\n",
        "        rimages = images[row * images_per_row : (row + 1) * images_per_row]\n",
        "        row_images.append(np.concatenate(rimages, axis=1))\n",
        "    image = np.concatenate(row_images, axis=0)\n",
        "    plt.imshow(image,  cmap='gist_yarg', **options)\n",
        "    plt.axis(\"off\")"
      ],
      "execution_count": 16,
      "outputs": []
    },
    {
      "cell_type": "code",
      "metadata": {
        "colab": {
          "base_uri": "https://localhost:8080/",
          "height": 611
        },
        "id": "quQ7jSh1R9Mb",
        "outputId": "8b3d3e78-227c-4c0b-d7e6-90f7e4ed6def"
      },
      "source": [
        "# Show a few instances from each Digit:\n",
        "plt.figure(figsize=(12,10))\n",
        "label_indices = []\n",
        "# Selecting a few label indices from each of the 3 classes to show:\n",
        "for i in range(30):\n",
        "    # take index randomly chosen\n",
        "    label_indices = np.hstack([np.random.choice(np.where(y_train==label)[0], size=15) for label in classes])\n",
        "    # choose the image according to the index\n",
        "    image = X_train[label_indices[i] - 1]\n",
        "\n",
        "# Plotting 'original' image\n",
        "plot_digits(X_train[label_indices],images_per_row=5)\n",
        "plt.title(\"Original Digits\", fontsize=18)"
      ],
      "execution_count": 17,
      "outputs": [
        {
          "output_type": "execute_result",
          "data": {
            "text/plain": [
              "Text(0.5, 1.0, 'Original Digits')"
            ]
          },
          "metadata": {},
          "execution_count": 17
        },
        {
          "output_type": "display_data",
          "data": {
            "image/png": "[encoded data removed]",
            "text/plain": [
              "<Figure size 864x720 with 1 Axes>"
            ]
          },
          "metadata": {
            "needs_background": "light"
          }
        }
      ]
    },
    {
      "cell_type": "markdown",
      "metadata": {
        "id": "FsAOnOcNNG_V"
      },
      "source": [
        "###  Splitting the Training data into both Training and Validation Sets:\n",
        "\n",
        "- Although this is the Training set, we can still set aside some samples (for instance 20%) of the 1,500 instances we have for Model Validation purposes.\n",
        "\n",
        "\n",
        "- With that Validation Set, we can then select the amount of Uncertainty we are happy with from our Model to use out of sample on other unseen data.\n",
        "\n",
        "\n",
        "- We can then test out how well our decision performs on the Test Set that we put aside earlier."
      ]
    },
    {
      "cell_type": "code",
      "metadata": {
        "id": "YdsmyVAtPXNn"
      },
      "source": [
        "### Split tha dataset in training and validation sets\n",
        "# choose the fraction of your validation data from the training set\n",
        "w = 0.20\n",
        "X_train, X_val, y_train, y_val = train_test_split(X_train, y_train, test_size=w, random_state=0)\n",
        " \n",
        "# Shuffling the training instaces around to randomize the order of inputs to the model:\n",
        "X_train, y_train = shuffle(X_train, y_train)"
      ],
      "execution_count": 18,
      "outputs": []
    },
    {
      "cell_type": "code",
      "metadata": {
        "id": "qXwJwP0iPxhi",
        "colab": {
          "base_uri": "https://localhost:8080/"
        },
        "outputId": "aaa1bf9f-d502-4394-ea77-f0ac260a2ae6"
      },
      "source": [
        "# print shape of your validation and training set\n",
        "print(y_val.shape, y_train.shape)\n",
        "print(X_val.shape, X_train.shape)\n",
        "\n"
      ],
      "execution_count": 19,
      "outputs": [
        {
          "output_type": "stream",
          "name": "stdout",
          "text": [
            "(3000,) (12000,)\n",
            "(3000, 784) (12000, 784)\n"
          ]
        }
      ]
    },
    {
      "cell_type": "markdown",
      "metadata": {
        "id": "aOroY1QoP8DY"
      },
      "source": [
        "### Encoding the Class labels for the Probabilistic ML Model:\n",
        "\n",
        "This is an example:\n",
        "\n",
        "- **[1,0,0]** for first digit\n",
        "- **[0,1,0]** for second digit\n",
        "- **[0,0,1]** for third digit"
      ]
    },
    {
      "cell_type": "code",
      "metadata": {
        "id": "XI8YAlON13M2",
        "colab": {
          "base_uri": "https://localhost:8080/"
        },
        "outputId": "eff37212-3195-4f9c-ebca-e3f83f9cf697"
      },
      "source": [
        "import sklearn.preprocessing\n",
        "\n",
        "y_2_bin = sklearn.preprocessing.LabelBinarizer().fit_transform(y_train.reshape(-1,1))\n",
        "np.set_printoptions(threshold=100)\n",
        "y_2_bin"
      ],
      "execution_count": 20,
      "outputs": [
        {
          "output_type": "execute_result",
          "data": {
            "text/plain": [
              "array([[0, 1, 0],\n",
              "       [0, 0, 1],\n",
              "       [0, 1, 0],\n",
              "       ...,\n",
              "       [1, 0, 0],\n",
              "       [1, 0, 0],\n",
              "       [0, 1, 0]])"
            ]
          },
          "metadata": {},
          "execution_count": 20
        }
      ]
    },
    {
      "cell_type": "markdown",
      "metadata": {
        "id": "rjUaqWTqQIcp"
      },
      "source": [
        "### General-Recipe ML"
      ]
    },
    {
      "cell_type": "code",
      "metadata": {
        "id": "QzgdivxfQNv5",
        "colab": {
          "base_uri": "https://localhost:8080/"
        },
        "outputId": "5e35845a-f8a8-4966-aa50-1c31a3bfcfae"
      },
      "source": [
        "# model\n",
        "model_log = LogisticRegression(random_state=0, \n",
        "                               max_iter=2000, C=100, \n",
        "                               solver='lbfgs', \n",
        "                               multi_class='multinomial').fit(X_train, y_train)\n",
        "\n",
        "# Classification:\n",
        "y_pred_log = model_log.predict(X_val)\n",
        "y_pred_logi_prob = model_log.predict_proba(X_val)\n",
        "\n",
        "# Maybe taking the maximum probability \n",
        "# in any of the classes for each observation\n",
        "prob_classmax = np.max(y_pred_logi_prob,axis=1)\n",
        "\n",
        "# Computing the Accuracy:\n",
        "accuracy_score(y_pred_log, y_val)"
      ],
      "execution_count": 21,
      "outputs": [
        {
          "output_type": "execute_result",
          "data": {
            "text/plain": [
              "0.974"
            ]
          },
          "metadata": {},
          "execution_count": 21
        }
      ]
    },
    {
      "cell_type": "markdown",
      "metadata": {
        "id": "uq3OKhR9VRKr"
      },
      "source": [
        "The accuracy of the model is 97.4%, this is quite good we have a good prediction with the dataset we have.<br>\n",
        "The model give us a general precision, we have 3 digits, and if we want to know better about the accurancy score, we can calculate the F1-Score for the different digit. We can do that using the classification_report function form Scikit-Learn"
      ]
    },
    {
      "cell_type": "code",
      "metadata": {
        "colab": {
          "base_uri": "https://localhost:8080/"
        },
        "id": "pAtvEpuIVwd_",
        "outputId": "b1499890-ab13-4b8a-dd27-3c4bd13a9d0a"
      },
      "source": [
        "# Calculate precision, recall and F1-Score for our model for each digit\n",
        "Digits = []\n",
        "for digit in classes:\n",
        "  Digits.append(\"Digit %s \" % digit)\n",
        "\n",
        "print (classification_report(y_val, y_pred_log, target_names=Digits, digits=3))"
      ],
      "execution_count": 22,
      "outputs": [
        {
          "output_type": "stream",
          "name": "stdout",
          "text": [
            "              precision    recall  f1-score   support\n",
            "\n",
            "    Digit 1       0.982     0.987     0.984       964\n",
            "    Digit 2       0.968     0.962     0.965      1026\n",
            "    Digit 6       0.972     0.974     0.973      1010\n",
            "\n",
            "    accuracy                          0.974      3000\n",
            "   macro avg      0.974     0.974     0.974      3000\n",
            "weighted avg      0.974     0.974     0.974      3000\n",
            "\n"
          ]
        }
      ]
    },
    {
      "cell_type": "markdown",
      "metadata": {
        "id": "WUi09MApY0ix"
      },
      "source": [
        "When we build a model, the value of accuracy at all is not enough to solve our problem.<br>\n",
        "In this case we can use the **_Precision_**,**_Recall_** and **_f1-score_** for evaluate our model.<br>First to define the formula for the _precision_, _recall_ and _f1-score_ let's define the value used in the formula:<br>\n",
        "\n",
        "*   _TP_= True Positive\n",
        "*   _TN_= True Negative\n",
        "*   _FP_= False Positive\n",
        "*   _FN_= False Negative<br>\n",
        "\n",
        "The starting point for evaluate the model is the **_Accurancy_**, this value is the most simple to calculate and how we can see for our model is 97.4%.<br>The formula for calculate the accurancy is:<br>\n",
        "**TP+TN/TP+FP+TN+FN**<br>The second value we can calculate is the **_precision_** how we can see for \n",
        "the table the precisio is 98.2% for the digit 1 and 2, and 97.2% for the digit 6.<br>The formula for calculate the _precision_ is:<br>**TP/TP+FP**<br>\n",
        "the **_recal_** is calculated with the formula:<br>**TP/TP+FN**<br>\n",
        "The **_f1-score_** is calculated with the formula:<br>**2*((precision*recall)/(precision+recall))**\n",
        "\n"
      ]
    },
    {
      "cell_type": "markdown",
      "metadata": {
        "id": "3uQG6JsOQxH5"
      },
      "source": [
        "### Probabilistic Multinomial Logistic Regression:"
      ]
    },
    {
      "cell_type": "markdown",
      "metadata": {
        "id": "irlmUNw7Q5YL"
      },
      "source": [
        "The Multinomial Logistic Regression has some parameters:\n",
        "\n",
        "- $\\alpha$, which is the intercept term:\n",
        "\n",
        "- $\\beta$, which is a vector of coefficients which give a weighting to the importance of each input feature:\n"
      ]
    },
    {
      "cell_type": "code",
      "metadata": {
        "id": "1o7mbKWmRhz5"
      },
      "source": [
        "## We use LabelBinarizer to transfor classes into counts\n",
        "nf = X_train.shape[1]\n",
        "# number of classes\n",
        "nc = len(classes)\n",
        "# floatX = float32\n",
        "floatX = tt.config.floatX\n",
        "\n",
        "init_b = np.random.randn(nf, nc-1).astype(floatX)\n",
        "init_a = np.random.randn(nc-1).astype(floatX)\n",
        "\n",
        "\n",
        "with pm.Model() as multi_logistic:\n",
        "    # Prior\n",
        "    β = pm.Normal('beta', 0, sigma=100, shape=(nf, nc-1), testval=init_b)\n",
        "    α = pm.Normal('alpha', 0, sigma=100, shape=(nc-1,), testval=init_a)\n",
        "    \n",
        "    # we need to consider nc-1 features because the model is not identifiable\n",
        "    # the softmax turns a vector into a probability that sums up to one\n",
        "    # therefore we add zeros to go back to dimension nc\n",
        "    # so that softmax returns a vector of dimension nc\n",
        "    β1  = tt.tensor.concatenate([np.zeros((nf,1)),β ],axis=1)\n",
        "    α1  = tt.tensor.concatenate([[0],α ],)\n",
        "    \n",
        "    # Likelihood\n",
        "    mu = pm.math.matrix_dot(X_train,β1) + α1\n",
        "    # It doesn't work if the problem is binary\n",
        "    p = tt.tensor.nnet.nnet.softmax(mu)\n",
        "    observed = pm.Multinomial('likelihood', p=p, n=1, observed=y_2_bin)\n"
      ],
      "execution_count": 23,
      "outputs": []
    },
    {
      "cell_type": "code",
      "metadata": {
        "id": "aj6Uzc05Rhtr",
        "colab": {
          "base_uri": "https://localhost:8080/",
          "height": 92
        },
        "outputId": "01f2ae80-fc2a-46a3-b36e-8fa87aaf8d82"
      },
      "source": [
        "with multi_logistic:\n",
        "    #approx = pm.fit(300000, method='advi') # takes longer\n",
        "    approx = pm.fit(30000, method='advi')"
      ],
      "execution_count": 24,
      "outputs": [
        {
          "output_type": "stream",
          "name": "stderr",
          "text": [
            "WARNING (theano.tensor.blas): We did not find a dynamic library in the library_dir of the library we use for blas. If you use ATLAS, make sure to compile it with dynamics library.\n"
          ]
        },
        {
          "output_type": "display_data",
          "data": {
            "text/html": [
              "\n",
              "    <div>\n",
              "        <style>\n",
              "            /* Turns off some styling */\n",
              "            progress {\n",
              "                /* gets rid of default border in Firefox and Opera. */\n",
              "                border: none;\n",
              "                /* Needs to be in here for Safari polyfill so background images work as expected. */\n",
              "                background-size: auto;\n",
              "            }\n",
              "            .progress-bar-interrupted, .progress-bar-interrupted::-webkit-progress-bar {\n",
              "                background: #F44336;\n",
              "            }\n",
              "        </style>\n",
              "      <progress value='30000' class='' max='30000' style='width:300px; height:20px; vertical-align: middle;'></progress>\n",
              "      100.00% [30000/30000 29:42<00:00 Average Loss = 6,982.6]\n",
              "    </div>\n",
              "    "
            ],
            "text/plain": [
              "<IPython.core.display.HTML object>"
            ]
          },
          "metadata": {}
        },
        {
          "output_type": "stream",
          "name": "stderr",
          "text": [
            "Finished [100%]: Average Loss = 6,982.9\n"
          ]
        }
      ]
    },
    {
      "cell_type": "code",
      "metadata": {
        "id": "2MFH4gwlRhrB",
        "colab": {
          "base_uri": "https://localhost:8080/",
          "height": 628
        },
        "outputId": "f7adc2f8-ea92-48c2-ff09-c754638c9861"
      },
      "source": [
        "plt.figure(figsize=(15,10))\n",
        "plt.xlabel('Iterations', fontsize=16)\n",
        "plt.ylabel('Loss', fontsize=16)\n",
        "plt.plot(approx.hist)"
      ],
      "execution_count": 25,
      "outputs": [
        {
          "output_type": "execute_result",
          "data": {
            "text/plain": [
              "[<matplotlib.lines.Line2D at 0x7f43b53b9810>]"
            ]
          },
          "metadata": {},
          "execution_count": 25
        },
        {
          "output_type": "display_data",
          "data": {
            "image/png": "[encoded data removed]",
            "text/plain": [
              "<Figure size 1080x720 with 1 Axes>"
            ]
          },
          "metadata": {
            "needs_background": "light"
          }
        }
      ]
    },
    {
      "cell_type": "markdown",
      "metadata": {
        "id": "0qNTWJlrKliY"
      },
      "source": [
        "How we can see when we run 30.000 iteration the loss function reach his minimun, observing the histogram, we can see the number of minum iteration to reach the optimal loss value is around 8000 iteration. The Pymc3 is run with an ADVI method, Automatic Differentiation Variational Interference, this method offer the power of the Variational Inference for approximates the Bayesian model, but add an automatic way to calculate the inference."
      ]
    },
    {
      "cell_type": "code",
      "metadata": {
        "id": "WNmJvYc4Rho7"
      },
      "source": [
        "# dd = 3000\n",
        "dd = 300\n",
        "posterior = approx.sample(draws=dd)"
      ],
      "execution_count": 26,
      "outputs": []
    },
    {
      "cell_type": "markdown",
      "metadata": {
        "id": "lgvQ2oyxav2d"
      },
      "source": [
        "The _sample_ function run over 300 example, this get the posterior based on the example we identify."
      ]
    },
    {
      "cell_type": "code",
      "metadata": {
        "id": "XXh5GXJsRhmr",
        "colab": {
          "base_uri": "https://localhost:8080/",
          "height": 246
        },
        "outputId": "b0540b0e-f00c-407b-de82-caf57dbbbba5"
      },
      "source": [
        "## The softmax function transforms each element of a collection by computing the exponential\n",
        "#  of each element divided by the sum of the exponentials of all the elements.\n",
        "from scipy.special import softmax\n",
        "\n",
        "#select an image in the test set\n",
        "i = 10 \n",
        "#i = random.randint(0, dd)\n",
        "\n",
        "#select a sample in the posterior\n",
        "s = 100 \n",
        "#s = random.randint(0, dd)\n",
        "\n",
        "\n",
        "beta  = np.hstack([np.zeros((nf,1)),  posterior['beta'][s,:] ])\n",
        "alpha = np.hstack([[0],  posterior['alpha'][s,:] ])\n",
        "image = X_val[i,:].reshape(28,28) # because the image are 28x28 pixel, I need to reshape with 28,28\n",
        "plt.figure(figsize=(2,2))\n",
        "plt.imshow(image,cmap=\"Greys_r\")\n",
        "np.set_printoptions(suppress=True)\n",
        "\n",
        "print(\"test image #\" + str(i))\n",
        "print(\"posterior sample #\" + str(s))\n",
        "print(\"true class=\", y_val[i])\n",
        "print(\"classes: \" + str(classes))\n",
        "print(\"estimated prob=\",softmax((np.array([X_val[i,:].dot(beta) + alpha])))[0,:])"
      ],
      "execution_count": 27,
      "outputs": [
        {
          "output_type": "stream",
          "name": "stdout",
          "text": [
            "test image #10\n",
            "posterior sample #100\n",
            "true class= 6.0\n",
            "classes: [1, 2, 6]\n",
            "estimated prob= [0. 1. 0.]\n"
          ]
        },
        {
          "output_type": "display_data",
          "data": {
            "image/png": "[encoded data removed]",
            "text/plain": [
              "<Figure size 144x144 with 1 Axes>"
            ]
          },
          "metadata": {
            "needs_background": "light"
          }
        }
      ]
    },
    {
      "cell_type": "markdown",
      "metadata": {
        "id": "YhP6KMKlPtQb"
      },
      "source": [
        "The _softmax_ is used to normalize the output in a multinomial logistic regression and is often used as at the last activation function in a Neural Network. The _softmax_ function is used to take the input and to normalize in a probability distribution, in our case the software return a missclassified probability, the digit is classified as a 2, not as a 6, this because the image is rotate of 90 degree and this can lead to a wrong classification. "
      ]
    },
    {
      "cell_type": "code",
      "metadata": {
        "id": "vRT8nMwGPreh"
      },
      "source": [
        "# Bayesian prediction\n",
        "# return the class that has the highest posterior probability\n",
        "y_pred_Bayesian=[]\n",
        "\n",
        "for i in range(X_val.shape[0]):\n",
        "    val=np.zeros((1,len(classes)))\n",
        "    for s in range(posterior['beta'].shape[0]):\n",
        "        beta = np.hstack([np.zeros((nf,1)),  posterior['beta'][s,:] ])\n",
        "        alpha = np.hstack([[0],  posterior['alpha'][s,:] ])     \n",
        "        val = val + softmax((np.array([X_val[i,:].dot(beta) + alpha])))\n",
        "    \n",
        "    mean_probability = val/posterior['beta'].shape[0]\n",
        "    y_pred_Bayesian.append( np.argmax(mean_probability))"
      ],
      "execution_count": 28,
      "outputs": []
    },
    {
      "cell_type": "code",
      "metadata": {
        "colab": {
          "base_uri": "https://localhost:8080/"
        },
        "id": "PpY8AkM6w5Cv",
        "outputId": "8517ee6e-6612-4a22-870e-a549520f1c74"
      },
      "source": [
        "from collections import Counter\n",
        "# Count the different prediction in the Bayesian\n",
        "print(Counter(y_pred_Bayesian))"
      ],
      "execution_count": 29,
      "outputs": [
        {
          "output_type": "stream",
          "name": "stdout",
          "text": [
            "Counter({2: 1017, 1: 1016, 0: 967})\n"
          ]
        }
      ]
    },
    {
      "cell_type": "code",
      "metadata": {
        "colab": {
          "base_uri": "https://localhost:8080/"
        },
        "id": "9vRGSN_MyOSI",
        "outputId": "85c86714-dfa1-4349-e8b3-292c15e61384"
      },
      "source": [
        "# recall the classes we are using\n",
        "print(classes)"
      ],
      "execution_count": 30,
      "outputs": [
        {
          "output_type": "stream",
          "name": "stdout",
          "text": [
            "[1, 2, 6]\n"
          ]
        }
      ]
    },
    {
      "cell_type": "code",
      "metadata": {
        "colab": {
          "base_uri": "https://localhost:8080/"
        },
        "id": "fMT7_ubvyPMQ",
        "outputId": "1bfed8f9-fc4b-4753-a169-298411f63fd3"
      },
      "source": [
        "# prediction array (using classes)\n",
        "nn = 10 # just an example\n",
        "np.array(classes)[y_pred_Bayesian[0:nn]]"
      ],
      "execution_count": 31,
      "outputs": [
        {
          "output_type": "execute_result",
          "data": {
            "text/plain": [
              "array([1, 6, 6, 1, 2, 1, 6, 6, 2, 1])"
            ]
          },
          "metadata": {},
          "execution_count": 31
        }
      ]
    },
    {
      "cell_type": "code",
      "metadata": {
        "colab": {
          "base_uri": "https://localhost:8080/"
        },
        "id": "51Z8_VA5yXxx",
        "outputId": "9c8d63c0-a192-4641-c2a6-0155c1bbbd23"
      },
      "source": [
        "# using validation: y_val\n",
        "print(\"Accuracy=\", accuracy_score(np.array(classes)[y_pred_Bayesian], y_val))"
      ],
      "execution_count": 32,
      "outputs": [
        {
          "output_type": "stream",
          "name": "stdout",
          "text": [
            "Accuracy= 0.9833333333333333\n"
          ]
        }
      ]
    },
    {
      "cell_type": "markdown",
      "metadata": {
        "id": "MvS65lWj9_66"
      },
      "source": [
        "The Bayesian accurancy is now 98.2% this accurance is higher of the logistic regression, this is because we use a bigger number of test in our Baysen and this improve the accurancy of the model."
      ]
    },
    {
      "cell_type": "markdown",
      "metadata": {
        "id": "KBcjDGQtybSj"
      },
      "source": [
        "# **Selecting different instances¶**"
      ]
    },
    {
      "cell_type": "code",
      "metadata": {
        "id": "5n0DeumNyfS3"
      },
      "source": [
        "y_predB=[]\n",
        "\n",
        "for i in range(X_val.shape[0]):\n",
        "    #print(i)\n",
        "    val=[]\n",
        "\n",
        "    for s in range(posterior['beta'].shape[0]):\n",
        "        beta = np.hstack([np.zeros((nf,1)),  posterior['beta'][s,:] ])\n",
        "        alpha = np.hstack([[0],  posterior['alpha'][s,:] ])\n",
        "        val.append(softmax((np.array([X_val[i,:].dot(beta) + alpha])))[0,:])\n",
        "\n",
        "    #mean probability\n",
        "    valmean = np.mean(val,axis=0)\n",
        "    #class with maximum mean probability\n",
        "    classmax = np.argmax(valmean)\n",
        "    #ranks\n",
        "    ranks = np.array(val.copy())\n",
        "    ranks   = ranks  *0 #init\n",
        "    colmax = np.argmax(np.array(val),axis=1)\n",
        "    ranks[np.arange(0,len(colmax)),colmax]=1\n",
        "     \n",
        "    y_predB.append( [classmax, valmean[classmax], np.std(ranks,axis=0)[classmax]])\n",
        "\n",
        "    \n",
        "y_predB= np.array(y_predB)"
      ],
      "execution_count": 33,
      "outputs": []
    },
    {
      "cell_type": "code",
      "metadata": {
        "colab": {
          "base_uri": "https://localhost:8080/"
        },
        "id": "3ZqJnaDYyq8X",
        "outputId": "da06ef7e-0821-48f5-d44d-f18323f425ec"
      },
      "source": [
        "# prediction array\n",
        "mm = 10\n",
        "y_predB[0:mm,:]"
      ],
      "execution_count": 34,
      "outputs": [
        {
          "output_type": "execute_result",
          "data": {
            "text/plain": [
              "array([[0.        , 0.92571611, 0.17950549],\n",
              "       [2.        , 0.99903178, 0.        ],\n",
              "       [2.        , 0.98838855, 0.08137704],\n",
              "       [0.        , 0.99882026, 0.        ],\n",
              "       [1.        , 1.        , 0.        ],\n",
              "       [0.        , 0.99948774, 0.        ],\n",
              "       [2.        , 0.99999983, 0.        ],\n",
              "       [2.        , 0.99999847, 0.        ],\n",
              "       [1.        , 0.99870514, 0.        ],\n",
              "       [0.        , 0.99983434, 0.        ]])"
            ]
          },
          "metadata": {},
          "execution_count": 34
        }
      ]
    },
    {
      "cell_type": "code",
      "metadata": {
        "colab": {
          "base_uri": "https://localhost:8080/"
        },
        "id": "dE8WAPeGyrxB",
        "outputId": "67c974c6-bbd1-4566-8c1a-954deeac636f"
      },
      "source": [
        "#sorting in descending order\n",
        "difficult = np.argsort(-y_predB[:,2])\n",
        "y_predB[difficult[0:mm],:]"
      ],
      "execution_count": 35,
      "outputs": [
        {
          "output_type": "execute_result",
          "data": {
            "text/plain": [
              "array([[1.        , 0.50887071, 0.5       ],\n",
              "       [2.        , 0.50531033, 0.49998889],\n",
              "       [1.        , 0.48278873, 0.49998889],\n",
              "       [2.        , 0.50793379, 0.49998889],\n",
              "       [1.        , 0.50938419, 0.49995555],\n",
              "       [2.        , 0.48701378, 0.49989999],\n",
              "       [0.        , 0.4997574 , 0.49959984],\n",
              "       [0.        , 0.52326246, 0.49959984],\n",
              "       [1.        , 0.52840248, 0.49945526],\n",
              "       [2.        , 0.52376967, 0.49928838]])"
            ]
          },
          "metadata": {},
          "execution_count": 35
        }
      ]
    },
    {
      "cell_type": "code",
      "metadata": {
        "colab": {
          "base_uri": "https://localhost:8080/"
        },
        "id": "s8jAjMvbyvJn",
        "outputId": "d1293d20-a333-4b3a-bc61-11d712e56dac"
      },
      "source": [
        "#probability of general-recipe logistic regression in wrong instances\n",
        "prob_classmax[y_pred_log != y_val]"
      ],
      "execution_count": 36,
      "outputs": [
        {
          "output_type": "execute_result",
          "data": {
            "text/plain": [
              "array([1.        , 0.9999908 , 0.99995891, 0.99981347, 0.98079807,\n",
              "       0.93164146, 0.8711765 , 0.9707614 , 0.99999997, 0.51284719,\n",
              "       0.92689108, 0.99915921, 0.68499082, 0.99888392, 1.        ,\n",
              "       0.58931519, 0.93713587, 0.99980593, 0.92434844, 0.86367748,\n",
              "       0.99999999, 0.74996053, 0.99999971, 0.99946989, 0.9999984 ,\n",
              "       0.9846901 , 0.99772614, 0.99996548, 0.99977199, 0.8901548 ,\n",
              "       0.85530461, 0.74915123, 0.96661533, 0.97656184, 0.67265709,\n",
              "       0.63616862, 0.95337935, 0.96553302, 0.96006696, 1.        ,\n",
              "       0.99699667, 0.9995172 , 0.97156277, 0.63328865, 0.99834075,\n",
              "       0.98800818, 0.95565749, 0.97789174, 0.68079014, 0.99953723,\n",
              "       0.93557243, 0.99999202, 0.99911817, 0.52590047, 0.99511685,\n",
              "       0.99999959, 1.        , 0.9620433 , 0.89518553, 0.86479906,\n",
              "       0.99530315, 0.60188496, 0.67741465, 0.9999999 , 0.98790068,\n",
              "       1.        , 0.42761895, 0.9746156 , 0.99838855, 0.95922805,\n",
              "       0.99944298, 0.99566734, 0.66589747, 0.67146108, 0.97809078,\n",
              "       0.99990464, 0.99996693, 0.99794866])"
            ]
          },
          "metadata": {},
          "execution_count": 36
        }
      ]
    },
    {
      "cell_type": "code",
      "metadata": {
        "colab": {
          "base_uri": "https://localhost:8080/"
        },
        "id": "kfv40_Hryzrf",
        "outputId": "ce96f0c4-1be1-4521-d47b-b68df18fbd11"
      },
      "source": [
        "y_predB[y_pred_log != y_val,:]"
      ],
      "execution_count": 37,
      "outputs": [
        {
          "output_type": "execute_result",
          "data": {
            "text/plain": [
              "array([[1.        , 0.99998244, 0.        ],\n",
              "       [2.        , 0.71355016, 0.44221664],\n",
              "       [1.        , 0.73157179, 0.44221664],\n",
              "       ...,\n",
              "       [1.        , 0.96704398, 0.1280191 ],\n",
              "       [1.        , 0.87355036, 0.31288976],\n",
              "       [1.        , 0.5294702 , 0.49928838]])"
            ]
          },
          "metadata": {},
          "execution_count": 37
        }
      ]
    },
    {
      "cell_type": "code",
      "metadata": {
        "colab": {
          "base_uri": "https://localhost:8080/"
        },
        "id": "Nna1Iu2xy5Z6",
        "outputId": "ea8945cb-71e6-410e-b8b1-939156d542f0"
      },
      "source": [
        "## Difficult & easy instances\n",
        "\n",
        "easy = np.argsort(y_predB[:,2])\n",
        "print(\"Accuracy in easy instances =\", accuracy_score(y_pred_log[easy[0:100]], y_val[easy[0:100]]))\n",
        "\n",
        "difficult = np.argsort(-y_predB[:,2])\n",
        "print(\"Accuracy in difficult instances =\", accuracy_score(y_pred_log[difficult[0:100]], y_val[difficult[0:100]]))"
      ],
      "execution_count": 38,
      "outputs": [
        {
          "output_type": "stream",
          "name": "stdout",
          "text": [
            "Accuracy in easy instances = 1.0\n",
            "Accuracy in difficult instances = 0.67\n"
          ]
        }
      ]
    },
    {
      "cell_type": "code",
      "metadata": {
        "colab": {
          "base_uri": "https://localhost:8080/",
          "height": 357
        },
        "id": "Biftb7Noy-Vd",
        "outputId": "8accb26e-0c7e-44bf-81fa-a598db0addc2"
      },
      "source": [
        "# show 10 random 'easy' images\n",
        "fig, axs = plt.subplots(2,5, figsize=(15, 6))\n",
        "fig.subplots_adjust(hspace = .2, wspace=.001)\n",
        "axs = axs.ravel()\n",
        "\n",
        "for i in range(10):\n",
        "    index = easy[i]\n",
        "    image = X_val[index,:].reshape(28,28)\n",
        "    axs[i].axis('off')\n",
        "    axs[i].imshow(image,cmap=\"Greys_r\")"
      ],
      "execution_count": 39,
      "outputs": [
        {
          "output_type": "display_data",
          "data": {
            "image/png": "[encoded data removed]",
            "text/plain": [
              "<Figure size 1080x432 with 10 Axes>"
            ]
          },
          "metadata": {
            "needs_background": "light"
          }
        }
      ]
    },
    {
      "cell_type": "code",
      "metadata": {
        "colab": {
          "base_uri": "https://localhost:8080/",
          "height": 357
        },
        "id": "PWjaROYvzFib",
        "outputId": "c2494870-9a1e-4f47-bad1-79a3e78a2fd9"
      },
      "source": [
        "# show 10 random 'difficult' images\n",
        "fig, axs = plt.subplots(2,5, figsize=(15, 6))\n",
        "fig.subplots_adjust(hspace = .2, wspace=.001)\n",
        "axs = axs.ravel()\n",
        "for i in range(10):\n",
        "    index = difficult[i]\n",
        "    image = X_val[index,:].reshape(28,28)\n",
        "    axs[i].axis('off')\n",
        "    axs[i].imshow(image,cmap=\"Greys_r\")"
      ],
      "execution_count": 40,
      "outputs": [
        {
          "output_type": "display_data",
          "data": {
            "image/png": "[encoded data removed]",
            "text/plain": [
              "<Figure size 1080x432 with 10 Axes>"
            ]
          },
          "metadata": {
            "needs_background": "light"
          }
        }
      ]
    },
    {
      "cell_type": "code",
      "metadata": {
        "id": "IFkyH3FgbzEw"
      },
      "source": [
        "# Re-run of multinomial logistic regression without difficult samples, \n",
        "# but varying the number of difficult samples\n",
        "results = []\n",
        "for i in list(np.arange(100, 3000, 100)):\n",
        "  # model\n",
        "  model_log = LogisticRegression(random_state=0, \n",
        "                                 max_iter=2000, \n",
        "                                 C=100, solver='lbfgs', \n",
        "                                 multi_class='multinomial').fit(X_train[easy[0:i]], \n",
        "                                                                y_train[easy[0:i]])\n",
        "\n",
        "  # Classification:\n",
        "  y_pred_log = model_log.predict(X_val)\n",
        "  y_pred_logi_prob = model_log.predict_proba(X_val)\n",
        "\n",
        "  # Maybe taking the maximum probability \n",
        "  # in any of the classes for each observation\n",
        "  prob_classmax = np.max(y_pred_logi_prob,axis=1)\n",
        "\n",
        "  # Computing the Accuracy:\n",
        "  accuracy_score(y_pred_log, y_val)\n",
        "  results.append (accuracy_score(y_pred_log, y_val))"
      ],
      "execution_count": 41,
      "outputs": []
    },
    {
      "cell_type": "code",
      "metadata": {
        "colab": {
          "base_uri": "https://localhost:8080/",
          "height": 525
        },
        "id": "so5ZgkyifBl_",
        "outputId": "45031ab1-b3df-4f04-975c-d5eb3549defb"
      },
      "source": [
        "# Graphing the varying effects on accuracy of \n",
        "# removing varying amounts of difficult to classify samples\n",
        "results.reverse()\n",
        "plt.figure(figsize=(10,8))\n",
        "plt.plot((list(np.arange(100, 3000, 100))), results)\n",
        "plt.title('Accuracy without difficult image',fontsize=18)\n",
        "plt.xlabel('Number of Difficult Digits Removed',fontsize=18)\n",
        "plt.ylabel('Accuracy',fontsize=18)\n",
        "plt.show()"
      ],
      "execution_count": 42,
      "outputs": [
        {
          "output_type": "display_data",
          "data": {
            "image/png": "[encoded data removed]",
            "text/plain": [
              "<Figure size 720x576 with 1 Axes>"
            ]
          },
          "metadata": {
            "needs_background": "light"
          }
        }
      ]
    },
    {
      "cell_type": "code",
      "metadata": {
        "colab": {
          "base_uri": "https://localhost:8080/"
        },
        "id": "RULeROHQeodD",
        "outputId": "e3940787-3b08-4705-a449-94b99e83c6c6"
      },
      "source": [
        "# Run the multi logistic without the difficult image\n",
        "model_log = LogisticRegression(random_state=0, \n",
        "                               max_iter=2000, \n",
        "                               C=100, \n",
        "                               solver='lbfgs', \n",
        "                               multi_class='multinomial').fit(X_train[easy[0:2500]], \n",
        "                                                              y_train[easy[0:2500]])\n",
        "\n",
        "# Classification:\n",
        "y_pred_log = model_log.predict(X_val)\n",
        "y_pred_logi_prob = model_log.predict_proba(X_val)\n",
        "\n",
        "# Maybe taking the maximum probability \n",
        "# in any of the classes for each observation\n",
        "prob_classmax = np.max(y_pred_logi_prob,axis=1)\n",
        "\n",
        "# Computing the Accuracy:\n",
        "accuracy_score(y_pred_log, y_val)"
      ],
      "execution_count": 43,
      "outputs": [
        {
          "output_type": "execute_result",
          "data": {
            "text/plain": [
              "0.977"
            ]
          },
          "metadata": {},
          "execution_count": 43
        }
      ]
    },
    {
      "cell_type": "markdown",
      "metadata": {
        "id": "NcshsLOGRPrk"
      },
      "source": [
        "## Summary"
      ]
    },
    {
      "cell_type": "markdown",
      "metadata": {
        "id": "XTc4pYKGRR60"
      },
      "source": [
        "The MINST dataset is a well know dataset, the dataset show some inbalanced data, in particular the digit 1 and the 5. The inbalance is not to high, and this allowed to select some random digit. In my case the classes choose are 1,2 and 6. \n",
        "The Traffic Sign notebook it was a very useful guide for the Etivity, and Colab help me to bypass the hardware limitation of my laptop.<br>The _Logistic Multinomial Regression_ as a classifier show an initial accurancy of 97%, this dataset cointains some difficut images.<br>The Pymc3 model Bayesn it's trained with 30000 iteration, this show the loss go down from over 140000 to 6000 circa, the minimun value for the loss is reach around 10000 iteration.<br>When I try the _softmax_ to classify a random image, the model missclassify the image, this depend because the number is rotate of 90 degrees and this make difficult to classify the image.<br>\n",
        "When I try the Baysen classifier, with the posterior, and 300 sample on the model, the accurancy for the model it was around 98%, this is probably because of the high number of iteration,and because of that the model is better to classify the model.<br> When the difficult image was removed, the same _Logistic Multinomial Regression_ score a little better reaching the 97.7%, this result was made with only 2000 iteration, and then show a better classification is compared with the Baysen, in the case of the Baysen we have 30000 iteration.<br>**Conclusions:**<br>\n",
        "\n",
        "\n",
        "*   Multinomial Logistic Regression is a very solid algorithm, this help to train a model and classify a mulitnomial dataset, like for example the MINST, where we don't have a simple Linear Classification.\n",
        "*   Bayesian prediction are very good, in particular if we use a huge number of iteration, in our example I use 30000 example, this take a very long time to be trained but give a vegy good result in term of classification.\n",
        "*   In order to improve the classification with the Multinomial Logistic regression, and maintain a low number of iteration, is better to remove the difficult data from the model, this help to better classify the data\n",
        "\n",
        "\n",
        "**References**\n",
        "\n",
        "Joshi R. (2016) \"Accuracy, Precision, Recall & F1 Score: Interpretation of Performance Measures\", https://blog.exsilio.com/all/accuracy-precision-recall-f1-score-interpretation-of-performance-measures/\n",
        "\n",
        "Salvatier J., Wiecki T., Fonnesbeck C., (2018) \"Getting started with PyMC3\" https://docs.pymc.io/notebooks/getting_started.html\n",
        "\n",
        "Dato-On D., (2018) \"The MNIST dataset provided in a easy-to-use CSV format\" https://www.kaggle.com/oddrationale/mnist-in-csv?select=mnist_test.csv\n",
        "\n",
        "Google, (2020) \"Imbalanced Data\" https://developers.google.com/machine-learning/data-prep/construct/sampling-splitting/imbalanced-data\n",
        "\n",
        "Alp Kucukelbir, Rajesh Ranganath, Andrew Gelman, David M. Blei, (2015) \"Automatic Variational Inference in Stan\" https://arxiv.org/abs/1506.03431\n",
        "\n",
        "\n",
        "\n",
        "\n",
        "\n"
      ]
    },
    {
      "cell_type": "code",
      "metadata": {
        "id": "xI33IKchu7W3"
      },
      "source": [
        "%%capture\n",
        "!wget -nc https://raw.githubusercontent.com/brpy/colab-pdf/master/colab_pdf.py\n",
        "from colab_pdf import colab_pdf\n",
        "colab_pdf('ET5003_Etivity_1_Pierluigi_Riti_18213561.ipynb')"
      ],
      "execution_count": 45,
      "outputs": []
    }
  ]
}